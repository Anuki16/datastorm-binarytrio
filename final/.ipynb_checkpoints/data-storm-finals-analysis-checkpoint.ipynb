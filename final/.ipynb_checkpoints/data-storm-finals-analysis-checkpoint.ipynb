{
 "cells": [
  {
   "cell_type": "code",
   "execution_count": 3,
   "metadata": {
    "_cell_guid": "b1076dfc-b9ad-4769-8c92-a6c4dae69d19",
    "_uuid": "8f2839f25d086af736a60e9eeb907d3b93b6e0e5",
    "execution": {
     "iopub.execute_input": "2022-04-09T04:21:45.634927Z",
     "iopub.status.busy": "2022-04-09T04:21:45.634504Z",
     "iopub.status.idle": "2022-04-09T04:21:45.645662Z",
     "shell.execute_reply": "2022-04-09T04:21:45.644983Z",
     "shell.execute_reply.started": "2022-04-09T04:21:45.634897Z"
    },
    "papermill": {
     "duration": 0.039332,
     "end_time": "2022-03-27T19:44:41.803209",
     "exception": false,
     "start_time": "2022-03-27T19:44:41.763877",
     "status": "completed"
    },
    "tags": []
   },
   "outputs": [],
   "source": [
    "# This Python 3 environment comes with many helpful analytics libraries installed\n",
    "# It is defined by the kaggle/python Docker image: https://github.com/kaggle/docker-python\n",
    "# For example, here's several helpful packages to load\n",
    "\n",
    "import warnings\n",
    "warnings.filterwarnings('ignore')\n",
    "\n",
    "import numpy as np # linear algebra\n",
    "import pandas as pd # data processing, CSV file I/O (e.g. pd.read_csv)\n",
    "import matplotlib.pyplot as plt\n",
    "\n",
    "# Input data files are available in the read-only \"../input/\" directory\n",
    "# For example, running this (by clicking run or pressing Shift+Enter) will list all files under the input directory\n",
    "\n",
    "import os\n",
    "for dirname, _, filenames in os.walk('/kaggle/input'):\n",
    "    for filename in filenames:\n",
    "        print(os.path.join(dirname, filename))\n",
    "\n",
    "# You can write up to 20GB to the current directory (/kaggle/working/) that gets preserved as output when you create a version using \"Save & Run All\" \n",
    "# You can also write temporary files to /kaggle/temp/, but they won't be saved outside of the current session"
   ]
  },
  {
   "cell_type": "code",
   "execution_count": 1,
   "metadata": {
    "execution": {
     "iopub.execute_input": "2022-04-09T04:13:57.535031Z",
     "iopub.status.busy": "2022-04-09T04:13:57.534764Z",
     "iopub.status.idle": "2022-04-09T04:13:57.539749Z",
     "shell.execute_reply": "2022-04-09T04:13:57.538887Z",
     "shell.execute_reply.started": "2022-04-09T04:13:57.535001Z"
    }
   },
   "outputs": [],
   "source": [
    "legacy = 'legacy_transactions_data.csv'\n",
    "recent = 'recent_transactions_data.csv'"
   ]
  },
  {
   "cell_type": "code",
   "execution_count": 4,
   "metadata": {
    "execution": {
     "iopub.execute_input": "2022-04-09T05:02:00.854164Z",
     "iopub.status.busy": "2022-04-09T05:02:00.853444Z",
     "iopub.status.idle": "2022-04-09T05:02:00.939274Z",
     "shell.execute_reply": "2022-04-09T05:02:00.938512Z",
     "shell.execute_reply.started": "2022-04-09T05:02:00.854130Z"
    },
    "papermill": {
     "duration": 0.05769,
     "end_time": "2022-03-27T19:44:41.883961",
     "exception": false,
     "start_time": "2022-03-27T19:44:41.826271",
     "status": "completed"
    },
    "tags": []
   },
   "outputs": [],
   "source": [
    "df = pd.read_csv(legacy)\n",
    "recent_df = pd.read_csv(recent)"
   ]
  },
  {
   "cell_type": "code",
   "execution_count": 5,
   "metadata": {
    "execution": {
     "iopub.execute_input": "2022-03-27T19:44:41.933758Z",
     "iopub.status.busy": "2022-03-27T19:44:41.932707Z",
     "iopub.status.idle": "2022-03-27T19:44:41.934638Z",
     "shell.execute_reply": "2022-03-27T19:44:41.935236Z",
     "shell.execute_reply.started": "2022-03-27T19:43:49.301385Z"
    },
    "papermill": {
     "duration": 0.029034,
     "end_time": "2022-03-27T19:44:41.935401",
     "exception": false,
     "start_time": "2022-03-27T19:44:41.906367",
     "status": "completed"
    },
    "tags": []
   },
   "outputs": [],
   "source": [
    "pd.set_option('display.max_rows', 10)"
   ]
  },
  {
   "cell_type": "code",
   "execution_count": 6,
   "metadata": {
    "execution": {
     "iopub.execute_input": "2022-04-09T05:04:32.199101Z",
     "iopub.status.busy": "2022-04-09T05:04:32.198804Z",
     "iopub.status.idle": "2022-04-09T05:04:32.206122Z",
     "shell.execute_reply": "2022-04-09T05:04:32.205296Z",
     "shell.execute_reply.started": "2022-04-09T05:04:32.199068Z"
    },
    "papermill": {
     "duration": 0.034172,
     "end_time": "2022-03-27T19:44:41.991598",
     "exception": false,
     "start_time": "2022-03-27T19:44:41.957426",
     "status": "completed"
    },
    "tags": []
   },
   "outputs": [],
   "source": [
    "training_range = pd.date_range('2019-03-01', '2020-02-29')\n",
    "testing_date_range = pd.date_range('2021-03-01', '2022-02-28')\n",
    "testing_range = pd.date_range('2021-03-01', '2022-03-06', freq='W-SUN')"
   ]
  },
  {
   "cell_type": "code",
   "execution_count": 7,
   "metadata": {
    "execution": {
     "iopub.execute_input": "2022-04-09T04:17:18.275431Z",
     "iopub.status.busy": "2022-04-09T04:17:18.274560Z",
     "iopub.status.idle": "2022-04-09T04:17:18.279646Z",
     "shell.execute_reply": "2022-04-09T04:17:18.278802Z",
     "shell.execute_reply.started": "2022-04-09T04:17:18.275394Z"
    },
    "papermill": {
     "duration": 0.028448,
     "end_time": "2022-03-27T19:44:42.041753",
     "exception": false,
     "start_time": "2022-03-27T19:44:42.013305",
     "status": "completed"
    },
    "tags": []
   },
   "outputs": [],
   "source": [
    "def week_of_month(sunday):\n",
    "    return (sunday.day - 1) // 7 + 1"
   ]
  },
  {
   "cell_type": "code",
   "execution_count": 8,
   "metadata": {
    "execution": {
     "iopub.execute_input": "2022-04-09T04:31:47.360613Z",
     "iopub.status.busy": "2022-04-09T04:31:47.360008Z",
     "iopub.status.idle": "2022-04-09T04:31:47.372589Z",
     "shell.execute_reply": "2022-04-09T04:31:47.371648Z",
     "shell.execute_reply.started": "2022-04-09T04:31:47.360563Z"
    },
    "papermill": {
     "duration": 0.035718,
     "end_time": "2022-03-27T19:44:42.100081",
     "exception": false,
     "start_time": "2022-03-27T19:44:42.064363",
     "status": "completed"
    },
    "tags": []
   },
   "outputs": [],
   "source": [
    "def data_for_item(item_code, val = 0):\n",
    "    filtered_df = df.loc[df['ItemCode'] == item_code]\n",
    "    filtered_df[\"DateID\"] = pd.to_datetime(filtered_df[\"DateID\"], format = \"%m/%d/%Y\")\n",
    "        \n",
    "    filtered_df.set_index(filtered_df.DateID, inplace=True)\n",
    "    filtered_df.drop('DateID', axis=1, inplace=True)\n",
    "    filtered_df.drop('ItemCode', axis = 1, inplace = True)\n",
    "    filtered_df.drop('CategoryCode', axis = 1, inplace = True)\n",
    "    \n",
    "    for date in training_range:\n",
    "        if date not in filtered_df.index:\n",
    "            filtered_df.loc[date] = [0]\n",
    "    \n",
    "    filtered_df = filtered_df.sort_index()\n",
    "        \n",
    "    weekly_sales = filtered_df.groupby(pd.Grouper(freq='W')).sum()\n",
    "    weekly_sales.rename(columns = {'DailySales': 'WeeklySales'}, inplace = True)\n",
    "    weekly_sales = create_lag(weekly_sales)\n",
    "    weekly_sales['month'] = weekly_sales.index.month\n",
    "    weekly_sales['week'] = weekly_sales.index.map(week_of_month)\n",
    "    \n",
    "    if val > 0:\n",
    "        weekly_sales, val_sales = weekly_sales.iloc[:-val, :], weekly_sales.iloc[-val:, :]\n",
    "        \n",
    "    train_x = weekly_sales.loc[:, weekly_sales.columns != 'WeeklySales']\n",
    "    train_y = weekly_sales['WeeklySales']\n",
    "    \n",
    "    if val > 0:\n",
    "        return (weekly_sales, train_x, train_y), val_sales\n",
    "    else:\n",
    "        return (weekly_sales, train_x, train_y), None\n",
    "    "
   ]
  },
  {
   "cell_type": "code",
   "execution_count": 9,
   "metadata": {
    "execution": {
     "iopub.execute_input": "2022-04-09T05:03:44.805362Z",
     "iopub.status.busy": "2022-04-09T05:03:44.804741Z",
     "iopub.status.idle": "2022-04-09T05:03:44.814840Z",
     "shell.execute_reply": "2022-04-09T05:03:44.814151Z",
     "shell.execute_reply.started": "2022-04-09T05:03:44.805320Z"
    }
   },
   "outputs": [],
   "source": [
    "def data_for_item_recent(item_code):\n",
    "    filtered_df = recent_df.loc[recent_df['ItemCode'] == item_code]\n",
    "    filtered_df[\"DateID\"] = pd.to_datetime(filtered_df[\"DateID\"], format = \"%m/%d/%Y\")\n",
    "        \n",
    "    filtered_df.set_index(filtered_df.DateID, inplace=True)\n",
    "    filtered_df.drop('DateID', axis=1, inplace=True)\n",
    "    filtered_df.drop('ItemCode', axis = 1, inplace = True)\n",
    "    filtered_df.drop('CategoryCode', axis = 1, inplace = True)\n",
    "    \n",
    "    for date in testing_date_range:\n",
    "        if date not in filtered_df.index:\n",
    "            filtered_df.loc[date] = [0]\n",
    "    \n",
    "    filtered_df = filtered_df.sort_index()\n",
    "        \n",
    "    weekly_sales = filtered_df.groupby(pd.Grouper(freq='W')).sum()\n",
    "    weekly_sales.rename(columns = {'DailySales': 'WeeklySales'}, inplace = True)\n",
    "    return weekly_sales"
   ]
  },
  {
   "cell_type": "code",
   "execution_count": 10,
   "metadata": {
    "execution": {
     "iopub.execute_input": "2022-04-09T04:43:56.709567Z",
     "iopub.status.busy": "2022-04-09T04:43:56.709277Z",
     "iopub.status.idle": "2022-04-09T04:43:56.715391Z",
     "shell.execute_reply": "2022-04-09T04:43:56.714606Z",
     "shell.execute_reply.started": "2022-04-09T04:43:56.709533Z"
    },
    "papermill": {
     "duration": 0.029157,
     "end_time": "2022-03-27T19:44:42.150736",
     "exception": false,
     "start_time": "2022-03-27T19:44:42.121579",
     "status": "completed"
    },
    "tags": []
   },
   "outputs": [],
   "source": [
    "def create_lag(df3):\n",
    "    dataframe = pd.DataFrame()\n",
    "    for i in range(4, 0, -1):\n",
    "        dataframe['lag-' + str(i)] = df3.WeeklySales.shift(i)\n",
    "    df4 = pd.concat([df3, dataframe], axis=1)\n",
    "    df4.dropna(inplace=True)\n",
    "    return df4"
   ]
  },
  {
   "cell_type": "code",
   "execution_count": 11,
   "metadata": {
    "execution": {
     "iopub.execute_input": "2022-04-09T04:41:16.830077Z",
     "iopub.status.busy": "2022-04-09T04:41:16.829104Z",
     "iopub.status.idle": "2022-04-09T04:41:16.879124Z",
     "shell.execute_reply": "2022-04-09T04:41:16.878437Z",
     "shell.execute_reply.started": "2022-04-09T04:41:16.830035Z"
    },
    "papermill": {
     "duration": 0.176471,
     "end_time": "2022-03-27T19:44:42.349783",
     "exception": false,
     "start_time": "2022-03-27T19:44:42.173312",
     "status": "completed"
    },
    "tags": []
   },
   "outputs": [
    {
     "data": {
      "text/html": [
       "<div>\n",
       "<style scoped>\n",
       "    .dataframe tbody tr th:only-of-type {\n",
       "        vertical-align: middle;\n",
       "    }\n",
       "\n",
       "    .dataframe tbody tr th {\n",
       "        vertical-align: top;\n",
       "    }\n",
       "\n",
       "    .dataframe thead th {\n",
       "        text-align: right;\n",
       "    }\n",
       "</style>\n",
       "<table border=\"1\" class=\"dataframe\">\n",
       "  <thead>\n",
       "    <tr style=\"text-align: right;\">\n",
       "      <th></th>\n",
       "      <th>WeeklySales</th>\n",
       "      <th>lag-4</th>\n",
       "      <th>lag-3</th>\n",
       "      <th>lag-2</th>\n",
       "      <th>lag-1</th>\n",
       "      <th>month</th>\n",
       "      <th>week</th>\n",
       "    </tr>\n",
       "    <tr>\n",
       "      <th>DateID</th>\n",
       "      <th></th>\n",
       "      <th></th>\n",
       "      <th></th>\n",
       "      <th></th>\n",
       "      <th></th>\n",
       "      <th></th>\n",
       "      <th></th>\n",
       "    </tr>\n",
       "  </thead>\n",
       "  <tbody>\n",
       "    <tr>\n",
       "      <th>2020-02-09</th>\n",
       "      <td>39</td>\n",
       "      <td>36.0</td>\n",
       "      <td>38.0</td>\n",
       "      <td>37.0</td>\n",
       "      <td>46.0</td>\n",
       "      <td>2</td>\n",
       "      <td>2</td>\n",
       "    </tr>\n",
       "    <tr>\n",
       "      <th>2020-02-16</th>\n",
       "      <td>42</td>\n",
       "      <td>38.0</td>\n",
       "      <td>37.0</td>\n",
       "      <td>46.0</td>\n",
       "      <td>39.0</td>\n",
       "      <td>2</td>\n",
       "      <td>3</td>\n",
       "    </tr>\n",
       "    <tr>\n",
       "      <th>2020-02-23</th>\n",
       "      <td>35</td>\n",
       "      <td>37.0</td>\n",
       "      <td>46.0</td>\n",
       "      <td>39.0</td>\n",
       "      <td>42.0</td>\n",
       "      <td>2</td>\n",
       "      <td>4</td>\n",
       "    </tr>\n",
       "    <tr>\n",
       "      <th>2020-03-01</th>\n",
       "      <td>23</td>\n",
       "      <td>46.0</td>\n",
       "      <td>39.0</td>\n",
       "      <td>42.0</td>\n",
       "      <td>35.0</td>\n",
       "      <td>3</td>\n",
       "      <td>1</td>\n",
       "    </tr>\n",
       "  </tbody>\n",
       "</table>\n",
       "</div>"
      ],
      "text/plain": [
       "            WeeklySales  lag-4  lag-3  lag-2  lag-1  month  week\n",
       "DateID                                                          \n",
       "2020-02-09           39   36.0   38.0   37.0   46.0      2     2\n",
       "2020-02-16           42   38.0   37.0   46.0   39.0      2     3\n",
       "2020-02-23           35   37.0   46.0   39.0   42.0      2     4\n",
       "2020-03-01           23   46.0   39.0   42.0   35.0      3     1"
      ]
     },
     "execution_count": 11,
     "metadata": {},
     "output_type": "execute_result"
    }
   ],
   "source": [
    "(weekly_sales, train_x, train_y), val_sales = data_for_item(255299, 4)\n",
    "val_sales"
   ]
  },
  {
   "cell_type": "code",
   "execution_count": 12,
   "metadata": {
    "execution": {
     "iopub.execute_input": "2022-04-09T04:26:57.444713Z",
     "iopub.status.busy": "2022-04-09T04:26:57.444412Z",
     "iopub.status.idle": "2022-04-09T04:26:58.759015Z",
     "shell.execute_reply": "2022-04-09T04:26:58.758163Z",
     "shell.execute_reply.started": "2022-04-09T04:26:57.444680Z"
    },
    "papermill": {
     "duration": 1.386789,
     "end_time": "2022-03-27T19:44:43.758694",
     "exception": false,
     "start_time": "2022-03-27T19:44:42.371905",
     "status": "completed"
    },
    "tags": []
   },
   "outputs": [
    {
     "ename": "ModuleNotFoundError",
     "evalue": "No module named 'xgboost'",
     "output_type": "error",
     "traceback": [
      "\u001b[1;31m---------------------------------------------------------------------------\u001b[0m",
      "\u001b[1;31mModuleNotFoundError\u001b[0m                       Traceback (most recent call last)",
      "\u001b[1;32m<ipython-input-12-f5e838629d43>\u001b[0m in \u001b[0;36m<module>\u001b[1;34m\u001b[0m\n\u001b[0;32m      1\u001b[0m \u001b[1;32mfrom\u001b[0m \u001b[0msklearn\u001b[0m\u001b[1;33m.\u001b[0m\u001b[0mfeature_selection\u001b[0m \u001b[1;32mimport\u001b[0m \u001b[0mRFE\u001b[0m\u001b[1;33m\u001b[0m\u001b[1;33m\u001b[0m\u001b[0m\n\u001b[0;32m      2\u001b[0m \u001b[1;32mfrom\u001b[0m \u001b[0msklearn\u001b[0m\u001b[1;33m.\u001b[0m\u001b[0mensemble\u001b[0m \u001b[1;32mimport\u001b[0m \u001b[0mRandomForestRegressor\u001b[0m\u001b[1;33m\u001b[0m\u001b[1;33m\u001b[0m\u001b[0m\n\u001b[1;32m----> 3\u001b[1;33m \u001b[1;32mfrom\u001b[0m \u001b[0mxgboost\u001b[0m \u001b[1;32mimport\u001b[0m \u001b[0mXGBRegressor\u001b[0m\u001b[1;33m\u001b[0m\u001b[1;33m\u001b[0m\u001b[0m\n\u001b[0m",
      "\u001b[1;31mModuleNotFoundError\u001b[0m: No module named 'xgboost'"
     ]
    }
   ],
   "source": [
    "from sklearn.feature_selection import RFE\n",
    "from sklearn.ensemble import RandomForestRegressor\n",
    "from xgboost import XGBRegressor"
   ]
  },
  {
   "cell_type": "code",
   "execution_count": null,
   "metadata": {
    "execution": {
     "iopub.execute_input": "2022-04-09T04:49:07.990017Z",
     "iopub.status.busy": "2022-04-09T04:49:07.989119Z",
     "iopub.status.idle": "2022-04-09T04:49:07.994897Z",
     "shell.execute_reply": "2022-04-09T04:49:07.993827Z",
     "shell.execute_reply.started": "2022-04-09T04:49:07.989959Z"
    },
    "papermill": {
     "duration": 0.022139,
     "end_time": "2022-03-27T19:44:43.803564",
     "exception": false,
     "start_time": "2022-03-27T19:44:43.781425",
     "status": "completed"
    },
    "tags": []
   },
   "outputs": [],
   "source": [
    "train_errors = {}\n",
    "val_errors = {}"
   ]
  },
  {
   "cell_type": "code",
   "execution_count": null,
   "metadata": {
    "execution": {
     "iopub.execute_input": "2022-04-09T05:27:47.784547Z",
     "iopub.status.busy": "2022-04-09T05:27:47.784252Z",
     "iopub.status.idle": "2022-04-09T05:27:47.794844Z",
     "shell.execute_reply": "2022-04-09T05:27:47.793815Z",
     "shell.execute_reply.started": "2022-04-09T05:27:47.784511Z"
    },
    "papermill": {
     "duration": 0.034689,
     "end_time": "2022-03-27T19:44:43.860602",
     "exception": false,
     "start_time": "2022-03-27T19:44:43.825913",
     "status": "completed"
    },
    "tags": []
   },
   "outputs": [],
   "source": [
    "def train_predict(weekly_sales, train_x, train_y, testing_range = testing_range):\n",
    "    model = RandomForestRegressor(random_state = 10)\n",
    "\n",
    "    fit = model.fit(train_x, train_y)\n",
    "    results = []\n",
    "    \n",
    "    train_pred = fit.predict(train_x)\n",
    "    train_error = accuracy(train_y.values, train_pred)\n",
    "    \n",
    "    for date in testing_range:\n",
    "        prev_row = weekly_sales.iloc[-1]\n",
    "        test_x = pd.DataFrame({'lag-4': [prev_row['lag-3']],\n",
    "                                'lag-3': [prev_row['lag-2']],\n",
    "                                'lag-2': [prev_row['lag-1']],\n",
    "                               'lag-1':[prev_row['WeeklySales']], \n",
    "                               'month': [date.month], \n",
    "                               'week': [week_of_month(date)]\n",
    "                               })\n",
    "        prediction = round(fit.predict(test_x)[0])\n",
    "        test_x['WeeklySales'] = [prediction]\n",
    "        test_x.index = [date]\n",
    "        #print(test_x)\n",
    "        weekly_sales = weekly_sales.append(test_x)\n",
    "        results.append(prediction)\n",
    "    \n",
    "    #print(weekly_sales)\n",
    "    return results, train_error\n",
    "        "
   ]
  },
  {
   "cell_type": "code",
   "execution_count": null,
   "metadata": {
    "execution": {
     "iopub.execute_input": "2022-04-09T05:20:32.369536Z",
     "iopub.status.busy": "2022-04-09T05:20:32.369252Z",
     "iopub.status.idle": "2022-04-09T05:20:32.377870Z",
     "shell.execute_reply": "2022-04-09T05:20:32.376805Z",
     "shell.execute_reply.started": "2022-04-09T05:20:32.369505Z"
    },
    "papermill": {
     "duration": 0.031301,
     "end_time": "2022-03-27T19:44:43.915078",
     "exception": false,
     "start_time": "2022-03-27T19:44:43.883777",
     "status": "completed"
    },
    "tags": []
   },
   "outputs": [],
   "source": [
    "def predict_for_one_item(item_code, val = 0):\n",
    "    (weekly_sales, train_x, train_y), val_sales = data_for_item(item_code, val)\n",
    "    if val > 0:\n",
    "        result, error = train_predict(weekly_sales, train_x, train_y, val_sales.index)\n",
    "    else:\n",
    "        result, error = train_predict(weekly_sales, train_x, train_y)\n",
    "    \n",
    "    print(\"Item {} Training error: {}\".format(item_code, error), end = ' ')\n",
    "    if val > 0:\n",
    "        val_error = accuracy(val_sales.WeeklySales, np.array(result))\n",
    "        print(\"Validation error: {}\".format(val_error))\n",
    "        if val_error < float('inf'):\n",
    "            val_errors[item_code] = val_error\n",
    "    train_errors[item_code] = error\n",
    "    \n",
    "    if val == 0:\n",
    "        return pd.DataFrame({'PredictedSales': result}, index = testing_range)"
   ]
  },
  {
   "cell_type": "code",
   "execution_count": null,
   "metadata": {
    "execution": {
     "iopub.execute_input": "2022-04-09T05:21:46.874015Z",
     "iopub.status.busy": "2022-04-09T05:21:46.873326Z",
     "iopub.status.idle": "2022-04-09T05:21:47.357174Z",
     "shell.execute_reply": "2022-04-09T05:21:47.356557Z",
     "shell.execute_reply.started": "2022-04-09T05:21:46.873980Z"
    }
   },
   "outputs": [],
   "source": [
    "predict_for_one_item(705797, 4)"
   ]
  },
  {
   "cell_type": "code",
   "execution_count": null,
   "metadata": {
    "execution": {
     "iopub.execute_input": "2022-04-09T04:34:40.748655Z",
     "iopub.status.busy": "2022-04-09T04:34:40.748372Z",
     "iopub.status.idle": "2022-04-09T04:34:40.753834Z",
     "shell.execute_reply": "2022-04-09T04:34:40.752932Z",
     "shell.execute_reply.started": "2022-04-09T04:34:40.748624Z"
    },
    "papermill": {
     "duration": 0.030099,
     "end_time": "2022-03-27T19:44:43.969529",
     "exception": false,
     "start_time": "2022-03-27T19:44:43.939430",
     "status": "completed"
    },
    "tags": []
   },
   "outputs": [],
   "source": [
    "def accuracy(actual, pred):\n",
    "    diff = np.sum(np.abs(actual - pred))\n",
    "    return diff / np.sum(actual)"
   ]
  },
  {
   "cell_type": "code",
   "execution_count": null,
   "metadata": {
    "execution": {
     "iopub.execute_input": "2022-04-09T04:57:56.548687Z",
     "iopub.status.busy": "2022-04-09T04:57:56.548426Z",
     "iopub.status.idle": "2022-04-09T04:57:56.554450Z",
     "shell.execute_reply": "2022-04-09T04:57:56.553825Z",
     "shell.execute_reply.started": "2022-04-09T04:57:56.548659Z"
    },
    "papermill": {
     "duration": 0.050901,
     "end_time": "2022-03-27T19:45:06.341672",
     "exception": false,
     "start_time": "2022-03-27T19:45:06.290771",
     "status": "completed"
    },
    "tags": []
   },
   "outputs": [],
   "source": [
    "def predict_for_all_validate(val = 4):\n",
    "    global train_errors, val_errors\n",
    "    train_errors = {}\n",
    "    val_errors = {}\n",
    "    items = df.ItemCode.unique()\n",
    "    \n",
    "    for item in items:\n",
    "        predict_for_one_item(item, val)\n",
    "    print(\"Average validation error: {}\".format(sum(val_errors.values())/len(val_errors)))"
   ]
  },
  {
   "cell_type": "code",
   "execution_count": 124,
   "metadata": {
    "execution": {
     "iopub.execute_input": "2022-04-09T05:20:36.613750Z",
     "iopub.status.busy": "2022-04-09T05:20:36.613088Z",
     "iopub.status.idle": "2022-04-09T05:21:19.763359Z",
     "shell.execute_reply": "2022-04-09T05:21:19.762670Z",
     "shell.execute_reply.started": "2022-04-09T05:20:36.613712Z"
    }
   },
   "outputs": [],
   "source": [
    "predict_for_all_validate()"
   ]
  },
  {
   "cell_type": "code",
   "execution_count": 127,
   "metadata": {
    "execution": {
     "iopub.execute_input": "2022-04-09T05:22:02.984501Z",
     "iopub.status.busy": "2022-04-09T05:22:02.984216Z",
     "iopub.status.idle": "2022-04-09T05:22:02.990207Z",
     "shell.execute_reply": "2022-04-09T05:22:02.989514Z",
     "shell.execute_reply.started": "2022-04-09T05:22:02.984472Z"
    }
   },
   "outputs": [],
   "source": [
    "sum(val_errors.values()) / len(val_errors)"
   ]
  },
  {
   "cell_type": "code",
   "execution_count": null,
   "metadata": {},
   "outputs": [],
   "source": [
    "def predict_for_all():\n",
    "    global train_errors\n",
    "    train_errors = {}\n",
    "    val_errors = {}\n",
    "    items = df.ItemCode.unique()\n",
    "    \n",
    "    for item in items:\n",
    "        predict_for_one_item(item, val)\n",
    "    print(\"Average validation error: {}\".format(sum(val_errors.values())/len(val_errors)))"
   ]
  },
  {
   "cell_type": "code",
   "execution_count": 146,
   "metadata": {
    "execution": {
     "iopub.execute_input": "2022-04-09T05:33:20.865192Z",
     "iopub.status.busy": "2022-04-09T05:33:20.864618Z",
     "iopub.status.idle": "2022-04-09T05:33:20.869674Z",
     "shell.execute_reply": "2022-04-09T05:33:20.868461Z",
     "shell.execute_reply.started": "2022-04-09T05:33:20.865155Z"
    }
   },
   "outputs": [],
   "source": [
    "useful = [692861,24587,255377]\n",
    "#255377 face masks"
   ]
  },
  {
   "cell_type": "code",
   "execution_count": 145,
   "metadata": {
    "execution": {
     "iopub.execute_input": "2022-04-09T05:32:56.554786Z",
     "iopub.status.busy": "2022-04-09T05:32:56.554460Z",
     "iopub.status.idle": "2022-04-09T05:32:58.784344Z",
     "shell.execute_reply": "2022-04-09T05:32:58.783333Z",
     "shell.execute_reply.started": "2022-04-09T05:32:56.554745Z"
    }
   },
   "outputs": [],
   "source": [
    "item = 255275\n",
    "\n",
    "(weekly_sales, train_x, train_y), _ = data_for_item(item)\n",
    "predictions = predict_for_one_item(item)\n",
    "recent_sales = data_for_item_recent(item)\n",
    "\n",
    "fig, axs = plt.subplots(1, 2,figsize=(20, 4), sharey = True)\n",
    "predictions.plot(ax = axs[0])\n",
    "recent_sales.plot(ax = axs[0])\n",
    "axs[0].set(xlabel = \"\", ylabel = \"Daily Sales\", title = \"Weekly sales of item {}\".format(item))\n",
    "\n",
    "train_y.plot(ax = axs[1])\n",
    "axs[1].set(xlabel = \"\", ylabel = \"Weekly Sales\", title = \"Weekly sales of item {}\".format(item))"
   ]
  },
  {
   "cell_type": "code",
   "execution_count": null,
   "metadata": {},
   "outputs": [],
   "source": []
  }
 ],
 "metadata": {
  "kernelspec": {
   "display_name": "Python 3",
   "language": "python",
   "name": "python3"
  },
  "language_info": {
   "codemirror_mode": {
    "name": "ipython",
    "version": 3
   },
   "file_extension": ".py",
   "mimetype": "text/x-python",
   "name": "python",
   "nbconvert_exporter": "python",
   "pygments_lexer": "ipython3",
   "version": "3.7.3"
  }
 },
 "nbformat": 4,
 "nbformat_minor": 4
}
