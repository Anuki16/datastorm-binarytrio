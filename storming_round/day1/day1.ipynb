{
 "cells": [
  {
   "cell_type": "code",
   "execution_count": 1,
   "id": "f8d023f9",
   "metadata": {
    "_cell_guid": "b1076dfc-b9ad-4769-8c92-a6c4dae69d19",
    "_uuid": "8f2839f25d086af736a60e9eeb907d3b93b6e0e5",
    "execution": {
     "iopub.execute_input": "2022-03-27T04:44:22.949872Z",
     "iopub.status.busy": "2022-03-27T04:44:22.949233Z",
     "iopub.status.idle": "2022-03-27T04:44:22.956475Z",
     "shell.execute_reply": "2022-03-27T04:44:22.955656Z",
     "shell.execute_reply.started": "2022-03-26T19:21:58.877369Z"
    },
    "papermill": {
     "duration": 0.047204,
     "end_time": "2022-03-27T04:44:22.956647",
     "exception": false,
     "start_time": "2022-03-27T04:44:22.909443",
     "status": "completed"
    },
    "tags": []
   },
   "outputs": [
    {
     "name": "stdout",
     "output_type": "stream",
     "text": [
      "/kaggle/input/data-storm-30/validation_data.csv\n",
      "/kaggle/input/data-storm-30/train_data.csv\n",
      "/kaggle/input/data-storm-30/test_data.csv\n",
      "/kaggle/input/data-storm-30/DataStorm3.0_KaggleProblemStatement.pdf\n"
     ]
    }
   ],
   "source": [
    "# This Python 3 environment comes with many helpful analytics libraries installed\n",
    "# It is defined by the kaggle/python Docker image: https://github.com/kaggle/docker-python\n",
    "# For example, here's several helpful packages to load\n",
    "\n",
    "import numpy as np # linear algebra\n",
    "import pandas as pd # data processing, CSV file I/O (e.g. pd.read_csv)\n",
    "\n",
    "# Input data files are available in the read-only \"../input/\" directory\n",
    "# For example, running this (by clicking run or pressing Shift+Enter) will list all files under the input directory\n",
    "\n",
    "import os\n",
    "for dirname, _, filenames in os.walk('/kaggle/input'):\n",
    "    for filename in filenames:\n",
    "        print(os.path.join(dirname, filename))\n",
    "\n",
    "# You can write up to 20GB to the current directory (/kaggle/working/) that gets preserved as output when you create a version using \"Save & Run All\" \n",
    "# You can also write temporary files to /kaggle/temp/, but they won't be saved outside of the current session"
   ]
  },
  {
   "cell_type": "code",
   "execution_count": 2,
   "id": "07aee7f6",
   "metadata": {
    "execution": {
     "iopub.execute_input": "2022-03-27T04:44:23.015890Z",
     "iopub.status.busy": "2022-03-27T04:44:23.014898Z",
     "iopub.status.idle": "2022-03-27T04:44:23.080992Z",
     "shell.execute_reply": "2022-03-27T04:44:23.081637Z",
     "shell.execute_reply.started": "2022-03-26T19:21:58.930981Z"
    },
    "papermill": {
     "duration": 0.096898,
     "end_time": "2022-03-27T04:44:23.081818",
     "exception": false,
     "start_time": "2022-03-27T04:44:22.984920",
     "status": "completed"
    },
    "tags": []
   },
   "outputs": [
    {
     "data": {
      "text/html": [
       "<div>\n",
       "<style scoped>\n",
       "    .dataframe tbody tr th:only-of-type {\n",
       "        vertical-align: middle;\n",
       "    }\n",
       "\n",
       "    .dataframe tbody tr th {\n",
       "        vertical-align: top;\n",
       "    }\n",
       "\n",
       "    .dataframe thead th {\n",
       "        text-align: right;\n",
       "    }\n",
       "</style>\n",
       "<table border=\"1\" class=\"dataframe\">\n",
       "  <thead>\n",
       "    <tr style=\"text-align: right;\">\n",
       "      <th></th>\n",
       "      <th>ItemCode</th>\n",
       "      <th>DailySales</th>\n",
       "    </tr>\n",
       "  </thead>\n",
       "  <tbody>\n",
       "    <tr>\n",
       "      <th>count</th>\n",
       "      <td>1.992100e+04</td>\n",
       "      <td>19921.000000</td>\n",
       "    </tr>\n",
       "    <tr>\n",
       "      <th>mean</th>\n",
       "      <td>6.110610e+05</td>\n",
       "      <td>7.351890</td>\n",
       "    </tr>\n",
       "    <tr>\n",
       "      <th>std</th>\n",
       "      <td>4.549868e+05</td>\n",
       "      <td>14.605342</td>\n",
       "    </tr>\n",
       "    <tr>\n",
       "      <th>min</th>\n",
       "      <td>3.418000e+03</td>\n",
       "      <td>1.000000</td>\n",
       "    </tr>\n",
       "    <tr>\n",
       "      <th>25%</th>\n",
       "      <td>1.176100e+05</td>\n",
       "      <td>2.000000</td>\n",
       "    </tr>\n",
       "    <tr>\n",
       "      <th>50%</th>\n",
       "      <td>8.379430e+05</td>\n",
       "      <td>3.000000</td>\n",
       "    </tr>\n",
       "    <tr>\n",
       "      <th>75%</th>\n",
       "      <td>1.058713e+06</td>\n",
       "      <td>7.000000</td>\n",
       "    </tr>\n",
       "    <tr>\n",
       "      <th>max</th>\n",
       "      <td>1.105027e+06</td>\n",
       "      <td>434.000000</td>\n",
       "    </tr>\n",
       "  </tbody>\n",
       "</table>\n",
       "</div>"
      ],
      "text/plain": [
       "           ItemCode    DailySales\n",
       "count  1.992100e+04  19921.000000\n",
       "mean   6.110610e+05      7.351890\n",
       "std    4.549868e+05     14.605342\n",
       "min    3.418000e+03      1.000000\n",
       "25%    1.176100e+05      2.000000\n",
       "50%    8.379430e+05      3.000000\n",
       "75%    1.058713e+06      7.000000\n",
       "max    1.105027e+06    434.000000"
      ]
     },
     "execution_count": 2,
     "metadata": {},
     "output_type": "execute_result"
    }
   ],
   "source": [
    "retail_file_path = \"/kaggle/input/data-storm-30/train_data.csv\"\n",
    "df = pd.read_csv(retail_file_path)\n",
    "df.describe()"
   ]
  },
  {
   "cell_type": "code",
   "execution_count": 3,
   "id": "2c9e5e97",
   "metadata": {
    "execution": {
     "iopub.execute_input": "2022-03-27T04:44:23.143732Z",
     "iopub.status.busy": "2022-03-27T04:44:23.143031Z",
     "iopub.status.idle": "2022-03-27T04:44:23.155262Z",
     "shell.execute_reply": "2022-03-27T04:44:23.155832Z",
     "shell.execute_reply.started": "2022-03-26T19:21:59.013292Z"
    },
    "papermill": {
     "duration": 0.045848,
     "end_time": "2022-03-27T04:44:23.156000",
     "exception": false,
     "start_time": "2022-03-27T04:44:23.110152",
     "status": "completed"
    },
    "tags": []
   },
   "outputs": [
    {
     "data": {
      "text/html": [
       "<div>\n",
       "<style scoped>\n",
       "    .dataframe tbody tr th:only-of-type {\n",
       "        vertical-align: middle;\n",
       "    }\n",
       "\n",
       "    .dataframe tbody tr th {\n",
       "        vertical-align: top;\n",
       "    }\n",
       "\n",
       "    .dataframe thead th {\n",
       "        text-align: right;\n",
       "    }\n",
       "</style>\n",
       "<table border=\"1\" class=\"dataframe\">\n",
       "  <thead>\n",
       "    <tr style=\"text-align: right;\">\n",
       "      <th></th>\n",
       "      <th>CategoryCode</th>\n",
       "      <th>ItemCode</th>\n",
       "      <th>DateID</th>\n",
       "      <th>DailySales</th>\n",
       "    </tr>\n",
       "  </thead>\n",
       "  <tbody>\n",
       "    <tr>\n",
       "      <th>6</th>\n",
       "      <td>category_1</td>\n",
       "      <td>145978</td>\n",
       "      <td>10/30/2021</td>\n",
       "      <td>3</td>\n",
       "    </tr>\n",
       "    <tr>\n",
       "      <th>55</th>\n",
       "      <td>category_1</td>\n",
       "      <td>145978</td>\n",
       "      <td>12/9/2021</td>\n",
       "      <td>4</td>\n",
       "    </tr>\n",
       "    <tr>\n",
       "      <th>231</th>\n",
       "      <td>category_1</td>\n",
       "      <td>145978</td>\n",
       "      <td>10/23/2021</td>\n",
       "      <td>4</td>\n",
       "    </tr>\n",
       "    <tr>\n",
       "      <th>410</th>\n",
       "      <td>category_1</td>\n",
       "      <td>145978</td>\n",
       "      <td>12/7/2021</td>\n",
       "      <td>11</td>\n",
       "    </tr>\n",
       "    <tr>\n",
       "      <th>426</th>\n",
       "      <td>category_1</td>\n",
       "      <td>145978</td>\n",
       "      <td>1/24/2022</td>\n",
       "      <td>3</td>\n",
       "    </tr>\n",
       "    <tr>\n",
       "      <th>...</th>\n",
       "      <td>...</td>\n",
       "      <td>...</td>\n",
       "      <td>...</td>\n",
       "      <td>...</td>\n",
       "    </tr>\n",
       "    <tr>\n",
       "      <th>19230</th>\n",
       "      <td>category_1</td>\n",
       "      <td>145978</td>\n",
       "      <td>11/7/2021</td>\n",
       "      <td>3</td>\n",
       "    </tr>\n",
       "    <tr>\n",
       "      <th>19377</th>\n",
       "      <td>category_1</td>\n",
       "      <td>145978</td>\n",
       "      <td>10/10/2021</td>\n",
       "      <td>4</td>\n",
       "    </tr>\n",
       "    <tr>\n",
       "      <th>19514</th>\n",
       "      <td>category_1</td>\n",
       "      <td>145978</td>\n",
       "      <td>11/5/2021</td>\n",
       "      <td>1</td>\n",
       "    </tr>\n",
       "    <tr>\n",
       "      <th>19665</th>\n",
       "      <td>category_1</td>\n",
       "      <td>145978</td>\n",
       "      <td>10/2/2021</td>\n",
       "      <td>3</td>\n",
       "    </tr>\n",
       "    <tr>\n",
       "      <th>19697</th>\n",
       "      <td>category_1</td>\n",
       "      <td>145978</td>\n",
       "      <td>10/18/2021</td>\n",
       "      <td>4</td>\n",
       "    </tr>\n",
       "  </tbody>\n",
       "</table>\n",
       "<p>134 rows × 4 columns</p>\n",
       "</div>"
      ],
      "text/plain": [
       "      CategoryCode  ItemCode      DateID  DailySales\n",
       "6       category_1    145978  10/30/2021           3\n",
       "55      category_1    145978   12/9/2021           4\n",
       "231     category_1    145978  10/23/2021           4\n",
       "410     category_1    145978   12/7/2021          11\n",
       "426     category_1    145978   1/24/2022           3\n",
       "...            ...       ...         ...         ...\n",
       "19230   category_1    145978   11/7/2021           3\n",
       "19377   category_1    145978  10/10/2021           4\n",
       "19514   category_1    145978   11/5/2021           1\n",
       "19665   category_1    145978   10/2/2021           3\n",
       "19697   category_1    145978  10/18/2021           4\n",
       "\n",
       "[134 rows x 4 columns]"
      ]
     },
     "execution_count": 3,
     "metadata": {},
     "output_type": "execute_result"
    }
   ],
   "source": [
    "data_one = df.loc[df['ItemCode'] == 145978]\n",
    "data_one"
   ]
  },
  {
   "cell_type": "code",
   "execution_count": 4,
   "id": "b0be7ea3",
   "metadata": {
    "execution": {
     "iopub.execute_input": "2022-03-27T04:44:23.214893Z",
     "iopub.status.busy": "2022-03-27T04:44:23.214245Z",
     "iopub.status.idle": "2022-03-27T04:44:23.263930Z",
     "shell.execute_reply": "2022-03-27T04:44:23.263382Z",
     "shell.execute_reply.started": "2022-03-26T19:21:59.129713Z"
    },
    "papermill": {
     "duration": 0.080139,
     "end_time": "2022-03-27T04:44:23.264069",
     "exception": false,
     "start_time": "2022-03-27T04:44:23.183930",
     "status": "completed"
    },
    "tags": []
   },
   "outputs": [
    {
     "data": {
      "text/html": [
       "<div>\n",
       "<style scoped>\n",
       "    .dataframe tbody tr th:only-of-type {\n",
       "        vertical-align: middle;\n",
       "    }\n",
       "\n",
       "    .dataframe tbody tr th {\n",
       "        vertical-align: top;\n",
       "    }\n",
       "\n",
       "    .dataframe thead th {\n",
       "        text-align: right;\n",
       "    }\n",
       "</style>\n",
       "<table border=\"1\" class=\"dataframe\">\n",
       "  <thead>\n",
       "    <tr style=\"text-align: right;\">\n",
       "      <th></th>\n",
       "      <th>month</th>\n",
       "      <th>day</th>\n",
       "      <th>yearday</th>\n",
       "      <th>weekday</th>\n",
       "      <th>isweekend</th>\n",
       "    </tr>\n",
       "  </thead>\n",
       "  <tbody>\n",
       "    <tr>\n",
       "      <th>0</th>\n",
       "      <td>11</td>\n",
       "      <td>6</td>\n",
       "      <td>310</td>\n",
       "      <td>5</td>\n",
       "      <td>1</td>\n",
       "    </tr>\n",
       "    <tr>\n",
       "      <th>1</th>\n",
       "      <td>11</td>\n",
       "      <td>18</td>\n",
       "      <td>322</td>\n",
       "      <td>3</td>\n",
       "      <td>0</td>\n",
       "    </tr>\n",
       "    <tr>\n",
       "      <th>2</th>\n",
       "      <td>1</td>\n",
       "      <td>24</td>\n",
       "      <td>24</td>\n",
       "      <td>0</td>\n",
       "      <td>0</td>\n",
       "    </tr>\n",
       "    <tr>\n",
       "      <th>3</th>\n",
       "      <td>10</td>\n",
       "      <td>30</td>\n",
       "      <td>303</td>\n",
       "      <td>5</td>\n",
       "      <td>1</td>\n",
       "    </tr>\n",
       "    <tr>\n",
       "      <th>4</th>\n",
       "      <td>10</td>\n",
       "      <td>30</td>\n",
       "      <td>303</td>\n",
       "      <td>5</td>\n",
       "      <td>1</td>\n",
       "    </tr>\n",
       "    <tr>\n",
       "      <th>...</th>\n",
       "      <td>...</td>\n",
       "      <td>...</td>\n",
       "      <td>...</td>\n",
       "      <td>...</td>\n",
       "      <td>...</td>\n",
       "    </tr>\n",
       "    <tr>\n",
       "      <th>19916</th>\n",
       "      <td>10</td>\n",
       "      <td>4</td>\n",
       "      <td>277</td>\n",
       "      <td>0</td>\n",
       "      <td>0</td>\n",
       "    </tr>\n",
       "    <tr>\n",
       "      <th>19917</th>\n",
       "      <td>10</td>\n",
       "      <td>12</td>\n",
       "      <td>285</td>\n",
       "      <td>1</td>\n",
       "      <td>0</td>\n",
       "    </tr>\n",
       "    <tr>\n",
       "      <th>19918</th>\n",
       "      <td>10</td>\n",
       "      <td>1</td>\n",
       "      <td>274</td>\n",
       "      <td>4</td>\n",
       "      <td>0</td>\n",
       "    </tr>\n",
       "    <tr>\n",
       "      <th>19919</th>\n",
       "      <td>10</td>\n",
       "      <td>1</td>\n",
       "      <td>274</td>\n",
       "      <td>4</td>\n",
       "      <td>0</td>\n",
       "    </tr>\n",
       "    <tr>\n",
       "      <th>19920</th>\n",
       "      <td>10</td>\n",
       "      <td>4</td>\n",
       "      <td>277</td>\n",
       "      <td>0</td>\n",
       "      <td>0</td>\n",
       "    </tr>\n",
       "  </tbody>\n",
       "</table>\n",
       "<p>19921 rows × 5 columns</p>\n",
       "</div>"
      ],
      "text/plain": [
       "       month  day  yearday  weekday  isweekend\n",
       "0         11    6      310        5          1\n",
       "1         11   18      322        3          0\n",
       "2          1   24       24        0          0\n",
       "3         10   30      303        5          1\n",
       "4         10   30      303        5          1\n",
       "...      ...  ...      ...      ...        ...\n",
       "19916     10    4      277        0          0\n",
       "19917     10   12      285        1          0\n",
       "19918     10    1      274        4          0\n",
       "19919     10    1      274        4          0\n",
       "19920     10    4      277        0          0\n",
       "\n",
       "[19921 rows x 5 columns]"
      ]
     },
     "execution_count": 4,
     "metadata": {},
     "output_type": "execute_result"
    }
   ],
   "source": [
    "dates_col = pd.to_datetime(df[\"DateID\"], format = \"%m/%d/%Y\")\n",
    "added = pd.DataFrame({\"month\": dates_col.dt.month,\n",
    "              \"day\": dates_col.dt.day,\n",
    "              \"yearday\": dates_col.dt.dayofyear,\n",
    "              \"weekday\": dates_col.dt.dayofweek\n",
    "             })\n",
    "is_weekend = added[\"weekday\"].map(lambda x: int(x in [5,6]))\n",
    "added[\"isweekend\"] = is_weekend\n",
    "added"
   ]
  },
  {
   "cell_type": "code",
   "execution_count": 5,
   "id": "55329fdf",
   "metadata": {
    "execution": {
     "iopub.execute_input": "2022-03-27T04:44:23.329060Z",
     "iopub.status.busy": "2022-03-27T04:44:23.328140Z",
     "iopub.status.idle": "2022-03-27T04:44:23.334353Z",
     "shell.execute_reply": "2022-03-27T04:44:23.334890Z",
     "shell.execute_reply.started": "2022-03-26T19:21:59.240398Z"
    },
    "papermill": {
     "duration": 0.04183,
     "end_time": "2022-03-27T04:44:23.335077",
     "exception": false,
     "start_time": "2022-03-27T04:44:23.293247",
     "status": "completed"
    },
    "tags": []
   },
   "outputs": [],
   "source": [
    "df_with_dates = pd.concat([df, added], axis = 1)\n",
    "df_with_dates = df_with_dates.drop(\"DateID\", axis = 1)"
   ]
  },
  {
   "cell_type": "code",
   "execution_count": 6,
   "id": "e4133792",
   "metadata": {
    "execution": {
     "iopub.execute_input": "2022-03-27T04:44:23.398548Z",
     "iopub.status.busy": "2022-03-27T04:44:23.397838Z",
     "iopub.status.idle": "2022-03-27T04:44:24.435883Z",
     "shell.execute_reply": "2022-03-27T04:44:24.435193Z",
     "shell.execute_reply.started": "2022-03-26T19:21:59.320572Z"
    },
    "papermill": {
     "duration": 1.071009,
     "end_time": "2022-03-27T04:44:24.436028",
     "exception": false,
     "start_time": "2022-03-27T04:44:23.365019",
     "status": "completed"
    },
    "tags": []
   },
   "outputs": [],
   "source": [
    "from sklearn.preprocessing import OneHotEncoder\n",
    "from sklearn.preprocessing import MinMaxScaler"
   ]
  },
  {
   "cell_type": "code",
   "execution_count": 7,
   "id": "c1b0ebaa",
   "metadata": {
    "execution": {
     "iopub.execute_input": "2022-03-27T04:44:24.502400Z",
     "iopub.status.busy": "2022-03-27T04:44:24.501620Z",
     "iopub.status.idle": "2022-03-27T04:44:24.520996Z",
     "shell.execute_reply": "2022-03-27T04:44:24.520250Z",
     "shell.execute_reply.started": "2022-03-26T19:21:59.407922Z"
    },
    "papermill": {
     "duration": 0.056115,
     "end_time": "2022-03-27T04:44:24.521157",
     "exception": false,
     "start_time": "2022-03-27T04:44:24.465042",
     "status": "completed"
    },
    "tags": []
   },
   "outputs": [],
   "source": [
    "object_cols = [\"CategoryCode\"]\n",
    "\n",
    "# Apply one-hot encoder to each column with categorical data\n",
    "OH_encoder = OneHotEncoder(handle_unknown='ignore', sparse=False)\n",
    "OH_cols_train = pd.DataFrame(OH_encoder.fit_transform(df_with_dates[object_cols]))\n",
    "\n",
    "# One-hot encoding removed index; put it back\n",
    "OH_cols_train.index = df_with_dates.index\n",
    "\n",
    "# Remove categorical columns (will replace with one-hot encoding)\n",
    "num_X_train = df_with_dates.drop(object_cols, axis=1)\n",
    "\n",
    "# Add one-hot encoded columns to numerical features\n",
    "new_df = pd.concat([num_X_train, OH_cols_train], axis=1)\n",
    "\n",
    "output = new_df[\"DailySales\"]\n",
    "new_df = new_df.drop(\"DailySales\", axis = 1)"
   ]
  },
  {
   "cell_type": "code",
   "execution_count": 8,
   "id": "6c133ce6",
   "metadata": {
    "execution": {
     "iopub.execute_input": "2022-03-27T04:44:24.584823Z",
     "iopub.status.busy": "2022-03-27T04:44:24.584156Z",
     "iopub.status.idle": "2022-03-27T04:44:24.611910Z",
     "shell.execute_reply": "2022-03-27T04:44:24.611411Z",
     "shell.execute_reply.started": "2022-03-26T19:21:59.517093Z"
    },
    "papermill": {
     "duration": 0.061916,
     "end_time": "2022-03-27T04:44:24.612050",
     "exception": false,
     "start_time": "2022-03-27T04:44:24.550134",
     "status": "completed"
    },
    "tags": []
   },
   "outputs": [
    {
     "name": "stderr",
     "output_type": "stream",
     "text": [
      "/opt/conda/lib/python3.7/site-packages/sklearn/utils/validation.py:1679: FutureWarning: Feature names only support names that are all strings. Got feature names with dtypes: ['int', 'str']. An error will be raised in 1.2.\n",
      "  FutureWarning,\n",
      "/opt/conda/lib/python3.7/site-packages/sklearn/utils/validation.py:1679: FutureWarning: Feature names only support names that are all strings. Got feature names with dtypes: ['int', 'str']. An error will be raised in 1.2.\n",
      "  FutureWarning,\n"
     ]
    },
    {
     "data": {
      "text/html": [
       "<div>\n",
       "<style scoped>\n",
       "    .dataframe tbody tr th:only-of-type {\n",
       "        vertical-align: middle;\n",
       "    }\n",
       "\n",
       "    .dataframe tbody tr th {\n",
       "        vertical-align: top;\n",
       "    }\n",
       "\n",
       "    .dataframe thead th {\n",
       "        text-align: right;\n",
       "    }\n",
       "</style>\n",
       "<table border=\"1\" class=\"dataframe\">\n",
       "  <thead>\n",
       "    <tr style=\"text-align: right;\">\n",
       "      <th></th>\n",
       "      <th>ItemCode</th>\n",
       "      <th>month</th>\n",
       "      <th>day</th>\n",
       "      <th>yearday</th>\n",
       "      <th>weekday</th>\n",
       "      <th>isweekend</th>\n",
       "      <th>0</th>\n",
       "      <th>1</th>\n",
       "      <th>2</th>\n",
       "      <th>3</th>\n",
       "    </tr>\n",
       "  </thead>\n",
       "  <tbody>\n",
       "    <tr>\n",
       "      <th>0</th>\n",
       "      <td>0.103659</td>\n",
       "      <td>0.909091</td>\n",
       "      <td>0.166667</td>\n",
       "      <td>0.848901</td>\n",
       "      <td>0.833333</td>\n",
       "      <td>1.0</td>\n",
       "      <td>0.0</td>\n",
       "      <td>1.0</td>\n",
       "      <td>0.0</td>\n",
       "      <td>0.0</td>\n",
       "    </tr>\n",
       "    <tr>\n",
       "      <th>1</th>\n",
       "      <td>0.756317</td>\n",
       "      <td>0.909091</td>\n",
       "      <td>0.566667</td>\n",
       "      <td>0.881868</td>\n",
       "      <td>0.500000</td>\n",
       "      <td>0.0</td>\n",
       "      <td>0.0</td>\n",
       "      <td>0.0</td>\n",
       "      <td>0.0</td>\n",
       "      <td>1.0</td>\n",
       "    </tr>\n",
       "    <tr>\n",
       "      <th>2</th>\n",
       "      <td>0.332947</td>\n",
       "      <td>0.000000</td>\n",
       "      <td>0.766667</td>\n",
       "      <td>0.063187</td>\n",
       "      <td>0.000000</td>\n",
       "      <td>0.0</td>\n",
       "      <td>1.0</td>\n",
       "      <td>0.0</td>\n",
       "      <td>0.0</td>\n",
       "      <td>0.0</td>\n",
       "    </tr>\n",
       "    <tr>\n",
       "      <th>3</th>\n",
       "      <td>0.153561</td>\n",
       "      <td>0.818182</td>\n",
       "      <td>0.966667</td>\n",
       "      <td>0.829670</td>\n",
       "      <td>0.833333</td>\n",
       "      <td>1.0</td>\n",
       "      <td>0.0</td>\n",
       "      <td>1.0</td>\n",
       "      <td>0.0</td>\n",
       "      <td>0.0</td>\n",
       "    </tr>\n",
       "    <tr>\n",
       "      <th>4</th>\n",
       "      <td>0.910115</td>\n",
       "      <td>0.818182</td>\n",
       "      <td>0.966667</td>\n",
       "      <td>0.829670</td>\n",
       "      <td>0.833333</td>\n",
       "      <td>1.0</td>\n",
       "      <td>0.0</td>\n",
       "      <td>1.0</td>\n",
       "      <td>0.0</td>\n",
       "      <td>0.0</td>\n",
       "    </tr>\n",
       "  </tbody>\n",
       "</table>\n",
       "</div>"
      ],
      "text/plain": [
       "   ItemCode     month       day   yearday   weekday  isweekend    0    1    2  \\\n",
       "0  0.103659  0.909091  0.166667  0.848901  0.833333        1.0  0.0  1.0  0.0   \n",
       "1  0.756317  0.909091  0.566667  0.881868  0.500000        0.0  0.0  0.0  0.0   \n",
       "2  0.332947  0.000000  0.766667  0.063187  0.000000        0.0  1.0  0.0  0.0   \n",
       "3  0.153561  0.818182  0.966667  0.829670  0.833333        1.0  0.0  1.0  0.0   \n",
       "4  0.910115  0.818182  0.966667  0.829670  0.833333        1.0  0.0  1.0  0.0   \n",
       "\n",
       "     3  \n",
       "0  0.0  \n",
       "1  1.0  \n",
       "2  0.0  \n",
       "3  0.0  \n",
       "4  0.0  "
      ]
     },
     "execution_count": 8,
     "metadata": {},
     "output_type": "execute_result"
    }
   ],
   "source": [
    "scaler = MinMaxScaler()\n",
    "scaled_inp_df = pd.DataFrame(scaler.fit_transform(new_df))\n",
    "scaled_inp_df.columns = new_df.columns\n",
    "scaled_inp_df.head()"
   ]
  },
  {
   "cell_type": "code",
   "execution_count": 9,
   "id": "7f02817e",
   "metadata": {
    "execution": {
     "iopub.execute_input": "2022-03-27T04:44:24.679143Z",
     "iopub.status.busy": "2022-03-27T04:44:24.678459Z",
     "iopub.status.idle": "2022-03-27T04:44:25.780496Z",
     "shell.execute_reply": "2022-03-27T04:44:25.779886Z",
     "shell.execute_reply.started": "2022-03-26T19:21:59.591699Z"
    },
    "papermill": {
     "duration": 1.136832,
     "end_time": "2022-03-27T04:44:25.780635",
     "exception": false,
     "start_time": "2022-03-27T04:44:24.643803",
     "status": "completed"
    },
    "tags": []
   },
   "outputs": [],
   "source": [
    "from torch.utils.data import Dataset, DataLoader\n",
    "import torch\n",
    "import torch.nn as nn\n",
    "import torch.nn.functional as F"
   ]
  },
  {
   "cell_type": "code",
   "execution_count": 10,
   "id": "af8fae11",
   "metadata": {
    "execution": {
     "iopub.execute_input": "2022-03-27T04:44:25.852012Z",
     "iopub.status.busy": "2022-03-27T04:44:25.851260Z",
     "iopub.status.idle": "2022-03-27T04:44:25.852846Z",
     "shell.execute_reply": "2022-03-27T04:44:25.853533Z",
     "shell.execute_reply.started": "2022-03-26T19:21:59.638752Z"
    },
    "papermill": {
     "duration": 0.042879,
     "end_time": "2022-03-27T04:44:25.853818",
     "exception": false,
     "start_time": "2022-03-27T04:44:25.810939",
     "status": "completed"
    },
    "tags": []
   },
   "outputs": [],
   "source": [
    "class SalesDataset(Dataset):\n",
    "    \n",
    "    def __init__(self, df, output = None, mode = 'train'):\n",
    "        self.mode = mode\n",
    "        self.df = df\n",
    "        \n",
    "        print(df.head())\n",
    "        self.inp = df.values\n",
    "        \n",
    "        if self.mode == 'train':\n",
    "            self.oup = output.values.reshape((len(df), 1))\n",
    "            \n",
    "    def __len__(self):\n",
    "        return len(self.inp)\n",
    "    \n",
    "    def __getitem__(self, idx):\n",
    "        result = {}\n",
    "        result['inp'] = torch.Tensor(self.inp[idx])\n",
    "        if self.mode == 'train':\n",
    "            result['oup'] = torch.Tensor(self.oup[idx])\n",
    "            \n",
    "        return result\n",
    "    \n",
    "    def column_count(self):\n",
    "        return self.inp.shape[1]"
   ]
  },
  {
   "cell_type": "code",
   "execution_count": 11,
   "id": "b0f49f5e",
   "metadata": {
    "execution": {
     "iopub.execute_input": "2022-03-27T04:44:25.928004Z",
     "iopub.status.busy": "2022-03-27T04:44:25.927316Z",
     "iopub.status.idle": "2022-03-27T04:44:25.945209Z",
     "shell.execute_reply": "2022-03-27T04:44:25.945944Z",
     "shell.execute_reply.started": "2022-03-26T19:21:59.792421Z"
    },
    "papermill": {
     "duration": 0.061939,
     "end_time": "2022-03-27T04:44:25.946191",
     "exception": false,
     "start_time": "2022-03-27T04:44:25.884252",
     "status": "completed"
    },
    "tags": []
   },
   "outputs": [
    {
     "name": "stdout",
     "output_type": "stream",
     "text": [
      "   ItemCode     month       day   yearday   weekday  isweekend    0    1    2  \\\n",
      "0  0.103659  0.909091  0.166667  0.848901  0.833333        1.0  0.0  1.0  0.0   \n",
      "1  0.756317  0.909091  0.566667  0.881868  0.500000        0.0  0.0  0.0  0.0   \n",
      "2  0.332947  0.000000  0.766667  0.063187  0.000000        0.0  1.0  0.0  0.0   \n",
      "3  0.153561  0.818182  0.966667  0.829670  0.833333        1.0  0.0  1.0  0.0   \n",
      "4  0.910115  0.818182  0.966667  0.829670  0.833333        1.0  0.0  1.0  0.0   \n",
      "\n",
      "     3  \n",
      "0  0.0  \n",
      "1  1.0  \n",
      "2  0.0  \n",
      "3  0.0  \n",
      "4  0.0  \n"
     ]
    }
   ],
   "source": [
    "BATCH_SIZE = 32\n",
    "EPOCHS = 200\n",
    "VALID_SIZE = 0\n",
    "\n",
    "data = SalesDataset(scaled_inp_df, output)\n",
    "sub_train, sub_valid = torch.utils.data.random_split(data, [len(data) - VALID_SIZE, VALID_SIZE])\n",
    "data_train = DataLoader(dataset = sub_train, batch_size = BATCH_SIZE, shuffle = False)\n",
    "#data_valid = DataLoader(dataset = sub_valid, batch_size = VALID_SIZE, shuffle = False)"
   ]
  },
  {
   "cell_type": "code",
   "execution_count": null,
   "id": "f6122cef",
   "metadata": {
    "papermill": {
     "duration": 0.029893,
     "end_time": "2022-03-27T04:44:26.006860",
     "exception": false,
     "start_time": "2022-03-27T04:44:25.976967",
     "status": "completed"
    },
    "tags": []
   },
   "outputs": [],
   "source": []
  },
  {
   "cell_type": "code",
   "execution_count": 12,
   "id": "904e0b87",
   "metadata": {
    "execution": {
     "iopub.execute_input": "2022-03-27T04:44:26.076690Z",
     "iopub.status.busy": "2022-03-27T04:44:26.075940Z",
     "iopub.status.idle": "2022-03-27T04:44:26.078261Z",
     "shell.execute_reply": "2022-03-27T04:44:26.078756Z",
     "shell.execute_reply.started": "2022-03-26T19:21:59.908362Z"
    },
    "papermill": {
     "duration": 0.041923,
     "end_time": "2022-03-27T04:44:26.078925",
     "exception": false,
     "start_time": "2022-03-27T04:44:26.037002",
     "status": "completed"
    },
    "tags": []
   },
   "outputs": [],
   "source": [
    "layers = [data.column_count(), 32, 32, 4, 1]\n",
    "\n",
    "class Network(nn.Module):\n",
    "    def __init__(self):\n",
    "        super().__init__()\n",
    "        self.fc1 = nn.Linear(layers[0], layers[1])\n",
    "        self.fc2 = nn.Linear(layers[1], layers[2])\n",
    "        self.fc3 = nn.Linear(layers[2], layers[3])\n",
    "        self.fc4 = nn.Linear(layers[3], layers[4])\n",
    "        \n",
    "    def forward(self, x):\n",
    "        x = F.relu(self.fc1(x))\n",
    "        x = F.relu(self.fc2(x))\n",
    "        x = F.relu(self.fc3(x))\n",
    "        x = self.fc4(x)\n",
    "        \n",
    "        return x"
   ]
  },
  {
   "cell_type": "code",
   "execution_count": 13,
   "id": "17f4c147",
   "metadata": {
    "execution": {
     "iopub.execute_input": "2022-03-27T04:44:26.145621Z",
     "iopub.status.busy": "2022-03-27T04:44:26.144936Z",
     "iopub.status.idle": "2022-03-27T04:44:26.147507Z",
     "shell.execute_reply": "2022-03-27T04:44:26.147958Z",
     "shell.execute_reply.started": "2022-03-26T19:21:59.983833Z"
    },
    "papermill": {
     "duration": 0.038896,
     "end_time": "2022-03-27T04:44:26.148151",
     "exception": false,
     "start_time": "2022-03-27T04:44:26.109255",
     "status": "completed"
    },
    "tags": []
   },
   "outputs": [],
   "source": [
    "def train(model, x, y, optimizer, criterion):\n",
    "    \n",
    "    # set all gradients to 0\n",
    "    model.zero_grad()\n",
    "    # forward pass\n",
    "    output = model(x)   # this implicitly calls forward()\n",
    "    # calculate loss\n",
    "    loss = criterion(output, y)\n",
    "    # backward pass\n",
    "    loss.backward()\n",
    "    # update parameters\n",
    "    optimizer.step()\n",
    "    \n",
    "    return loss, output"
   ]
  },
  {
   "cell_type": "code",
   "execution_count": 14,
   "id": "a9345919",
   "metadata": {
    "execution": {
     "iopub.execute_input": "2022-03-27T04:44:26.214360Z",
     "iopub.status.busy": "2022-03-27T04:44:26.213714Z",
     "iopub.status.idle": "2022-03-27T04:44:26.216402Z",
     "shell.execute_reply": "2022-03-27T04:44:26.215885Z",
     "shell.execute_reply.started": "2022-03-26T19:22:00.007198Z"
    },
    "papermill": {
     "duration": 0.037885,
     "end_time": "2022-03-27T04:44:26.216544",
     "exception": false,
     "start_time": "2022-03-27T04:44:26.178659",
     "status": "completed"
    },
    "tags": []
   },
   "outputs": [],
   "source": [
    "def predict(model, x):\n",
    "    return model(x)\n",
    "    "
   ]
  },
  {
   "cell_type": "code",
   "execution_count": 15,
   "id": "740e71b1",
   "metadata": {
    "execution": {
     "iopub.execute_input": "2022-03-27T04:44:26.289859Z",
     "iopub.status.busy": "2022-03-27T04:44:26.289192Z",
     "iopub.status.idle": "2022-03-27T04:44:26.328299Z",
     "shell.execute_reply": "2022-03-27T04:44:26.327695Z",
     "shell.execute_reply.started": "2022-03-26T19:22:00.040855Z"
    },
    "papermill": {
     "duration": 0.081742,
     "end_time": "2022-03-27T04:44:26.328448",
     "exception": false,
     "start_time": "2022-03-27T04:44:26.246706",
     "status": "completed"
    },
    "tags": []
   },
   "outputs": [],
   "source": [
    "model = Network()\n",
    "batch = next(iter(data_train))\n",
    "x = batch['inp']\n",
    "y = batch['oup']\n",
    "optimizer = torch.optim.Adam(model.parameters(), lr = 0.001)\n",
    "criterion = nn.MSELoss()     # loss function"
   ]
  },
  {
   "cell_type": "code",
   "execution_count": 16,
   "id": "32456367",
   "metadata": {
    "execution": {
     "iopub.execute_input": "2022-03-27T04:44:26.399460Z",
     "iopub.status.busy": "2022-03-27T04:44:26.398650Z",
     "iopub.status.idle": "2022-03-27T04:45:25.215013Z",
     "shell.execute_reply": "2022-03-27T04:45:25.214269Z",
     "shell.execute_reply.started": "2022-03-26T19:22:00.086665Z"
    },
    "papermill": {
     "duration": 58.856382,
     "end_time": "2022-03-27T04:45:25.215207",
     "exception": false,
     "start_time": "2022-03-27T04:44:26.358825",
     "status": "completed"
    },
    "tags": []
   },
   "outputs": [
    {
     "name": "stdout",
     "output_type": "stream",
     "text": [
      "Epoch 1 Accuracy: 1.8597270250320435 Loss: 122471.1796875\n",
      "Epoch 2 Accuracy: 1.8655589818954468 Loss: 115995.7109375\n",
      "Epoch 3 Accuracy: 1.860190749168396 Loss: 115379.515625\n",
      "Epoch 4 Accuracy: 1.856542944908142 Loss: 115028.4609375\n",
      "Epoch 5 Accuracy: 1.8540433645248413 Loss: 114764.109375\n",
      "Epoch 6 Accuracy: 1.856067180633545 Loss: 114550.1328125\n",
      "Epoch 7 Accuracy: 1.8599222898483276 Loss: 114399.3046875\n",
      "Epoch 8 Accuracy: 1.8626254796981812 Loss: 114317.8203125\n",
      "Epoch 9 Accuracy: 1.8622721433639526 Loss: 114232.0625\n",
      "Epoch 10 Accuracy: 1.8628348112106323 Loss: 114151.109375\n",
      "Epoch 11 Accuracy: 1.862570881843567 Loss: 114069.78125\n",
      "Epoch 12 Accuracy: 1.8651140928268433 Loss: 113879.6484375\n",
      "Epoch 13 Accuracy: 1.8764081001281738 Loss: 112772.53125\n",
      "Epoch 14 Accuracy: 1.8875840902328491 Loss: 109933.78125\n",
      "Epoch 15 Accuracy: 1.8624402284622192 Loss: 106708.2734375\n",
      "Epoch 16 Accuracy: 1.8507050275802612 Loss: 103274.0546875\n",
      "Epoch 17 Accuracy: 1.8285667896270752 Loss: 99446.1953125\n",
      "Epoch 18 Accuracy: 1.8113257884979248 Loss: 95285.3515625\n",
      "Epoch 19 Accuracy: 1.7948460578918457 Loss: 91899.7109375\n",
      "Epoch 20 Accuracy: 1.7795363664627075 Loss: 89622.1484375\n",
      "Epoch 21 Accuracy: 1.7650229930877686 Loss: 86867.3203125\n",
      "Epoch 22 Accuracy: 1.7508186101913452 Loss: 85967.546875\n",
      "Epoch 23 Accuracy: 1.7340688705444336 Loss: 84071.390625\n",
      "Epoch 24 Accuracy: 1.732537031173706 Loss: 83933.6484375\n",
      "Epoch 25 Accuracy: 1.7279449701309204 Loss: 83610.421875\n",
      "Epoch 26 Accuracy: 1.7397754192352295 Loss: 84778.21875\n",
      "Epoch 27 Accuracy: 1.7122507095336914 Loss: 83135.484375\n",
      "Epoch 28 Accuracy: 1.7476760149002075 Loss: 86861.609375\n",
      "Epoch 29 Accuracy: 1.7142678499221802 Loss: 81887.0703125\n",
      "Epoch 30 Accuracy: 1.713686466217041 Loss: 82741.5078125\n",
      "Epoch 31 Accuracy: 1.7099213600158691 Loss: 81725.7578125\n",
      "Epoch 32 Accuracy: 1.7166575193405151 Loss: 82644.3828125\n",
      "Epoch 33 Accuracy: 1.7124404907226562 Loss: 82036.265625\n",
      "Epoch 34 Accuracy: 1.7055482864379883 Loss: 84228.234375\n",
      "Epoch 35 Accuracy: 1.7166328430175781 Loss: 83012.375\n",
      "Epoch 36 Accuracy: 1.7160967588424683 Loss: 81443.3203125\n",
      "Epoch 37 Accuracy: 1.701202392578125 Loss: 80689.3671875\n",
      "Epoch 38 Accuracy: 1.701194167137146 Loss: 79953.3828125\n",
      "Epoch 39 Accuracy: 1.7009236812591553 Loss: 81573.4140625\n",
      "Epoch 40 Accuracy: 1.7230186462402344 Loss: 83506.453125\n",
      "Epoch 41 Accuracy: 1.70412015914917 Loss: 80212.9375\n",
      "Epoch 42 Accuracy: 1.7018622159957886 Loss: 80272.7734375\n",
      "Epoch 43 Accuracy: 1.682485818862915 Loss: 79143.2890625\n",
      "Epoch 44 Accuracy: 1.6945958137512207 Loss: 81506.59375\n",
      "Epoch 45 Accuracy: 1.698703408241272 Loss: 81230.2734375\n",
      "Epoch 46 Accuracy: 1.6905815601348877 Loss: 80488.8984375\n",
      "Epoch 47 Accuracy: 1.7265418767929077 Loss: 85899.484375\n",
      "Epoch 48 Accuracy: 1.7062914371490479 Loss: 82547.5234375\n",
      "Epoch 49 Accuracy: 1.6878947019577026 Loss: 79436.9375\n",
      "Epoch 50 Accuracy: 1.6817058324813843 Loss: 78700.359375\n"
     ]
    }
   ],
   "source": [
    "model = Network()\n",
    "\n",
    "optimizer = torch.optim.Adam(model.parameters(), lr = 0.005)\n",
    "criterion = nn.MSELoss()     # loss function\n",
    "\n",
    "# Training loop\n",
    "losses = []\n",
    "for epoch in range(50):\n",
    "    epoch_loss = 0\n",
    "    correct = 0\n",
    "    \n",
    "    for bidx, batch in enumerate(data_train):\n",
    "        x_train, y_train = batch['inp'], batch['oup']\n",
    "        loss, predictions = train(model, x_train, y_train, optimizer, criterion)\n",
    "        \n",
    "        correct += ((y_train - predictions).abs() / y_train.abs()).sum()\n",
    "        epoch_loss += loss\n",
    "        \n",
    "    accuracy = correct / len(sub_train)\n",
    "    losses.append(float(epoch_loss))\n",
    "    if (epoch + 1)%1 == 0:\n",
    "        print('Epoch {} Accuracy: {} Loss: {}'.format(epoch + 1, accuracy, epoch_loss))\n",
    "        "
   ]
  },
  {
   "cell_type": "code",
   "execution_count": 17,
   "id": "540840d3",
   "metadata": {
    "execution": {
     "iopub.execute_input": "2022-03-27T04:45:25.318609Z",
     "iopub.status.busy": "2022-03-27T04:45:25.317927Z",
     "iopub.status.idle": "2022-03-27T04:45:25.340680Z",
     "shell.execute_reply": "2022-03-27T04:45:25.341232Z",
     "shell.execute_reply.started": "2022-03-26T19:23:00.550104Z"
    },
    "papermill": {
     "duration": 0.076538,
     "end_time": "2022-03-27T04:45:25.341399",
     "exception": false,
     "start_time": "2022-03-27T04:45:25.264861",
     "status": "completed"
    },
    "tags": []
   },
   "outputs": [
    {
     "data": {
      "text/plain": [
       "tensor([[ 7.8405],\n",
       "        [ 5.3172],\n",
       "        [ 5.0098],\n",
       "        [ 4.7122],\n",
       "        [ 4.9364],\n",
       "        [ 4.7939],\n",
       "        [ 7.5320],\n",
       "        [13.3868],\n",
       "        [ 6.5893],\n",
       "        [ 3.8189],\n",
       "        [ 3.8189],\n",
       "        [ 6.2803],\n",
       "        [12.2454],\n",
       "        [ 3.9222],\n",
       "        [ 8.9310],\n",
       "        [ 9.1811],\n",
       "        [ 4.9535]], grad_fn=<AddmmBackward>)"
      ]
     },
     "execution_count": 17,
     "metadata": {},
     "output_type": "execute_result"
    }
   ],
   "source": [
    "predictions"
   ]
  },
  {
   "cell_type": "code",
   "execution_count": 18,
   "id": "605382d9",
   "metadata": {
    "execution": {
     "iopub.execute_input": "2022-03-27T04:45:25.441636Z",
     "iopub.status.busy": "2022-03-27T04:45:25.440915Z",
     "iopub.status.idle": "2022-03-27T04:45:25.447919Z",
     "shell.execute_reply": "2022-03-27T04:45:25.447212Z",
     "shell.execute_reply.started": "2022-03-26T19:34:46.207990Z"
    },
    "papermill": {
     "duration": 0.05827,
     "end_time": "2022-03-27T04:45:25.448062",
     "exception": false,
     "start_time": "2022-03-27T04:45:25.389792",
     "status": "completed"
    },
    "tags": []
   },
   "outputs": [],
   "source": [
    "'''\n",
    "w1: 14th February 2022 – 20th February 2022\n",
    "ii. w2: 21st February 2022 – 27th February 2022\n",
    "iii. w3: 28th February 2022 – 6\n",
    "th March 2022\n",
    "iv. w4: 7th March 2022 – 13th March 2022\n",
    "'''\n",
    "\n",
    "weeks = {'w1': pd.date_range('2022-02-14', '2022-02-20'),\n",
    "'w2': pd.date_range('2022-02-21', '2022-02-27'),\n",
    "'w3': pd.date_range('2022-02-28', '2022-03-06'),\n",
    "'w4': pd.date_range('2022-03-07', '2022-03-13')}\n"
   ]
  },
  {
   "cell_type": "code",
   "execution_count": 19,
   "id": "e7c61ea3",
   "metadata": {
    "execution": {
     "iopub.execute_input": "2022-03-27T04:45:25.554624Z",
     "iopub.status.busy": "2022-03-27T04:45:25.553705Z",
     "iopub.status.idle": "2022-03-27T04:45:25.560269Z",
     "shell.execute_reply": "2022-03-27T04:45:25.559767Z",
     "shell.execute_reply.started": "2022-03-26T19:34:55.834181Z"
    },
    "papermill": {
     "duration": 0.063118,
     "end_time": "2022-03-27T04:45:25.560410",
     "exception": false,
     "start_time": "2022-03-27T04:45:25.497292",
     "status": "completed"
    },
    "tags": []
   },
   "outputs": [],
   "source": [
    "def prepare_test(path, mode = 'valid'):\n",
    "    val_df = pd.read_csv(path)\n",
    "\n",
    "    rows_list = []\n",
    "    for i, row in val_df.iterrows():\n",
    "        for date in weeks[row['Week']]:\n",
    "            rowdata = {}\n",
    "            rowdata['CategoryCode'] = row['CategoryCode']\n",
    "            rowdata['ItemCode'] = row['ItemCode']\n",
    "            rowdata['DateID'] = date\n",
    "            rows_list.append(rowdata)\n",
    "\n",
    "    df = pd.DataFrame(rows_list)\n",
    "\n",
    "    dates_col = df[\"DateID\"]\n",
    "    added = pd.DataFrame({\"month\": dates_col.dt.month,\n",
    "                  \"day\": dates_col.dt.day,\n",
    "                  \"yearday\": dates_col.dt.dayofyear,\n",
    "                  \"weekday\": dates_col.dt.dayofweek\n",
    "                 })\n",
    "    is_weekend = added[\"weekday\"].map(lambda x: int(x in [5,6]))\n",
    "    added[\"isweekend\"] = is_weekend\n",
    "\n",
    "    df_with_dates = pd.concat([df, added], axis = 1)\n",
    "    df_with_dates = df_with_dates.drop(\"DateID\", axis = 1)\n",
    "    \n",
    "    object_cols = [\"CategoryCode\"]\n",
    "\n",
    "    OH_cols_train = pd.DataFrame(OH_encoder.transform(df_with_dates[object_cols]))\n",
    "\n",
    "    # One-hot encoding removed index; put it back\n",
    "    OH_cols_train.index = df_with_dates.index\n",
    "\n",
    "    # Remove categorical columns (will replace with one-hot encoding)\n",
    "    num_X_train = df_with_dates.drop(object_cols, axis=1)\n",
    "\n",
    "    # Add one-hot encoded columns to numerical features\n",
    "    new_df = pd.concat([num_X_train, OH_cols_train], axis=1)\n",
    "    \n",
    "    scaled_inp_df = pd.DataFrame(scaler.transform(new_df))\n",
    "    scaled_inp_df.columns = new_df.columns\n",
    "    \n",
    "    print(scaled_inp_df.head())\n",
    "    \n",
    "    return val_df, scaled_inp_df\n",
    "\n"
   ]
  },
  {
   "cell_type": "code",
   "execution_count": 20,
   "id": "b874d02c",
   "metadata": {
    "execution": {
     "iopub.execute_input": "2022-03-27T04:45:25.660977Z",
     "iopub.status.busy": "2022-03-27T04:45:25.660057Z",
     "iopub.status.idle": "2022-03-27T04:45:25.664773Z",
     "shell.execute_reply": "2022-03-27T04:45:25.665240Z",
     "shell.execute_reply.started": "2022-03-26T19:34:56.722649Z"
    },
    "papermill": {
     "duration": 0.056633,
     "end_time": "2022-03-27T04:45:25.665410",
     "exception": false,
     "start_time": "2022-03-27T04:45:25.608777",
     "status": "completed"
    },
    "tags": []
   },
   "outputs": [],
   "source": [
    "def convert_to_weeks(val_df, predictions):\n",
    "    weekly = []\n",
    "    for i in range(0, len(predictions), 7):\n",
    "        weekly.append(round(float(predictions[i: i+7].sum())))\n",
    "    val_df['WeeklySales'] = weekly\n",
    "        "
   ]
  },
  {
   "cell_type": "code",
   "execution_count": 21,
   "id": "97c0e1b9",
   "metadata": {
    "execution": {
     "iopub.execute_input": "2022-03-27T04:45:25.767226Z",
     "iopub.status.busy": "2022-03-27T04:45:25.766092Z",
     "iopub.status.idle": "2022-03-27T04:45:25.873776Z",
     "shell.execute_reply": "2022-03-27T04:45:25.874505Z",
     "shell.execute_reply.started": "2022-03-26T19:53:43.205323Z"
    },
    "papermill": {
     "duration": 0.159916,
     "end_time": "2022-03-27T04:45:25.874725",
     "exception": false,
     "start_time": "2022-03-27T04:45:25.714809",
     "status": "completed"
    },
    "tags": []
   },
   "outputs": [
    {
     "name": "stdout",
     "output_type": "stream",
     "text": [
      "   ItemCode     month       day   yearday   weekday  isweekend    0    1    2  \\\n",
      "0  0.036601  0.181818  0.200000  0.178571  0.000000        0.0  1.0  0.0  0.0   \n",
      "1  0.036601  0.181818  0.233333  0.181319  0.166667        0.0  1.0  0.0  0.0   \n",
      "2  0.036601  0.181818  0.266667  0.184066  0.333333        0.0  1.0  0.0  0.0   \n",
      "3  0.036601  0.181818  0.300000  0.186813  0.500000        0.0  1.0  0.0  0.0   \n",
      "4  0.036601  0.181818  0.333333  0.189560  0.666667        0.0  1.0  0.0  0.0   \n",
      "\n",
      "     3  \n",
      "0  0.0  \n",
      "1  0.0  \n",
      "2  0.0  \n",
      "3  0.0  \n",
      "4  0.0  \n",
      "   ItemCode     month       day   yearday   weekday  isweekend    0    1    2  \\\n",
      "0  0.036601  0.181818  0.200000  0.178571  0.000000        0.0  1.0  0.0  0.0   \n",
      "1  0.036601  0.181818  0.233333  0.181319  0.166667        0.0  1.0  0.0  0.0   \n",
      "2  0.036601  0.181818  0.266667  0.184066  0.333333        0.0  1.0  0.0  0.0   \n",
      "3  0.036601  0.181818  0.300000  0.186813  0.500000        0.0  1.0  0.0  0.0   \n",
      "4  0.036601  0.181818  0.333333  0.189560  0.666667        0.0  1.0  0.0  0.0   \n",
      "\n",
      "     3  \n",
      "0  0.0  \n",
      "1  0.0  \n",
      "2  0.0  \n",
      "3  0.0  \n",
      "4  0.0  \n"
     ]
    },
    {
     "name": "stderr",
     "output_type": "stream",
     "text": [
      "/opt/conda/lib/python3.7/site-packages/sklearn/utils/validation.py:1679: FutureWarning: Feature names only support names that are all strings. Got feature names with dtypes: ['int', 'str']. An error will be raised in 1.2.\n",
      "  FutureWarning,\n"
     ]
    }
   ],
   "source": [
    "val_df, scaled_inp_df = prepare_test('/kaggle/input/data-storm-30/test_data.csv')\n",
    "val_data = SalesDataset(scaled_inp_df, mode = 'test')\n",
    "data_valid = DataLoader(dataset = val_data, batch_size = len(val_data), shuffle = False)"
   ]
  },
  {
   "cell_type": "code",
   "execution_count": 22,
   "id": "9ffd15e8",
   "metadata": {
    "execution": {
     "iopub.execute_input": "2022-03-27T04:45:25.980517Z",
     "iopub.status.busy": "2022-03-27T04:45:25.979672Z",
     "iopub.status.idle": "2022-03-27T04:45:26.017467Z",
     "shell.execute_reply": "2022-03-27T04:45:26.016844Z",
     "shell.execute_reply.started": "2022-03-26T19:53:45.411811Z"
    },
    "papermill": {
     "duration": 0.091582,
     "end_time": "2022-03-27T04:45:26.017609",
     "exception": false,
     "start_time": "2022-03-27T04:45:25.926027",
     "status": "completed"
    },
    "tags": []
   },
   "outputs": [],
   "source": [
    "valid = next(iter(data_valid))\n",
    "x_valid = valid['inp']\n",
    "predictions = predict(model, x_valid)/3"
   ]
  },
  {
   "cell_type": "code",
   "execution_count": 23,
   "id": "e50d6526",
   "metadata": {
    "execution": {
     "iopub.execute_input": "2022-03-27T04:45:26.120559Z",
     "iopub.status.busy": "2022-03-27T04:45:26.119505Z",
     "iopub.status.idle": "2022-03-27T04:45:26.153331Z",
     "shell.execute_reply": "2022-03-27T04:45:26.153827Z",
     "shell.execute_reply.started": "2022-03-26T19:53:51.200100Z"
    },
    "papermill": {
     "duration": 0.086925,
     "end_time": "2022-03-27T04:45:26.154005",
     "exception": false,
     "start_time": "2022-03-27T04:45:26.067080",
     "status": "completed"
    },
    "tags": []
   },
   "outputs": [
    {
     "data": {
      "text/html": [
       "<div>\n",
       "<style scoped>\n",
       "    .dataframe tbody tr th:only-of-type {\n",
       "        vertical-align: middle;\n",
       "    }\n",
       "\n",
       "    .dataframe tbody tr th {\n",
       "        vertical-align: top;\n",
       "    }\n",
       "\n",
       "    .dataframe thead th {\n",
       "        text-align: right;\n",
       "    }\n",
       "</style>\n",
       "<table border=\"1\" class=\"dataframe\">\n",
       "  <thead>\n",
       "    <tr style=\"text-align: right;\">\n",
       "      <th></th>\n",
       "      <th>CategoryCode</th>\n",
       "      <th>ItemCode</th>\n",
       "      <th>Week</th>\n",
       "      <th>PredictedSales</th>\n",
       "      <th>WeeklySales</th>\n",
       "      <th>final</th>\n",
       "    </tr>\n",
       "  </thead>\n",
       "  <tbody>\n",
       "    <tr>\n",
       "      <th>0</th>\n",
       "      <td>category_1</td>\n",
       "      <td>43738</td>\n",
       "      <td>w4</td>\n",
       "      <td>NaN</td>\n",
       "      <td>13</td>\n",
       "      <td>category_1_43738_w4</td>\n",
       "    </tr>\n",
       "    <tr>\n",
       "      <th>1</th>\n",
       "      <td>category_2</td>\n",
       "      <td>1006090</td>\n",
       "      <td>w1</td>\n",
       "      <td>NaN</td>\n",
       "      <td>9</td>\n",
       "      <td>category_2_1006090_w1</td>\n",
       "    </tr>\n",
       "    <tr>\n",
       "      <th>2</th>\n",
       "      <td>category_2</td>\n",
       "      <td>1076929</td>\n",
       "      <td>w4</td>\n",
       "      <td>NaN</td>\n",
       "      <td>9</td>\n",
       "      <td>category_2_1076929_w4</td>\n",
       "    </tr>\n",
       "    <tr>\n",
       "      <th>3</th>\n",
       "      <td>category_1</td>\n",
       "      <td>1081321</td>\n",
       "      <td>w3</td>\n",
       "      <td>NaN</td>\n",
       "      <td>11</td>\n",
       "      <td>category_1_1081321_w3</td>\n",
       "    </tr>\n",
       "    <tr>\n",
       "      <th>4</th>\n",
       "      <td>category_2</td>\n",
       "      <td>216151</td>\n",
       "      <td>w4</td>\n",
       "      <td>NaN</td>\n",
       "      <td>9</td>\n",
       "      <td>category_2_216151_w4</td>\n",
       "    </tr>\n",
       "    <tr>\n",
       "      <th>...</th>\n",
       "      <td>...</td>\n",
       "      <td>...</td>\n",
       "      <td>...</td>\n",
       "      <td>...</td>\n",
       "      <td>...</td>\n",
       "      <td>...</td>\n",
       "    </tr>\n",
       "    <tr>\n",
       "      <th>372</th>\n",
       "      <td>category_2</td>\n",
       "      <td>1101571</td>\n",
       "      <td>w1</td>\n",
       "      <td>NaN</td>\n",
       "      <td>9</td>\n",
       "      <td>category_2_1101571_w1</td>\n",
       "    </tr>\n",
       "    <tr>\n",
       "      <th>373</th>\n",
       "      <td>category_2</td>\n",
       "      <td>1090258</td>\n",
       "      <td>w4</td>\n",
       "      <td>NaN</td>\n",
       "      <td>9</td>\n",
       "      <td>category_2_1090258_w4</td>\n",
       "    </tr>\n",
       "    <tr>\n",
       "      <th>374</th>\n",
       "      <td>category_2</td>\n",
       "      <td>906595</td>\n",
       "      <td>w1</td>\n",
       "      <td>NaN</td>\n",
       "      <td>9</td>\n",
       "      <td>category_2_906595_w1</td>\n",
       "    </tr>\n",
       "    <tr>\n",
       "      <th>375</th>\n",
       "      <td>category_2</td>\n",
       "      <td>32245</td>\n",
       "      <td>w1</td>\n",
       "      <td>NaN</td>\n",
       "      <td>11</td>\n",
       "      <td>category_2_32245_w1</td>\n",
       "    </tr>\n",
       "    <tr>\n",
       "      <th>376</th>\n",
       "      <td>category_2</td>\n",
       "      <td>1006090</td>\n",
       "      <td>w2</td>\n",
       "      <td>NaN</td>\n",
       "      <td>9</td>\n",
       "      <td>category_2_1006090_w2</td>\n",
       "    </tr>\n",
       "  </tbody>\n",
       "</table>\n",
       "<p>377 rows × 6 columns</p>\n",
       "</div>"
      ],
      "text/plain": [
       "    CategoryCode  ItemCode Week  PredictedSales  WeeklySales  \\\n",
       "0     category_1     43738   w4             NaN           13   \n",
       "1     category_2   1006090   w1             NaN            9   \n",
       "2     category_2   1076929   w4             NaN            9   \n",
       "3     category_1   1081321   w3             NaN           11   \n",
       "4     category_2    216151   w4             NaN            9   \n",
       "..           ...       ...  ...             ...          ...   \n",
       "372   category_2   1101571   w1             NaN            9   \n",
       "373   category_2   1090258   w4             NaN            9   \n",
       "374   category_2    906595   w1             NaN            9   \n",
       "375   category_2     32245   w1             NaN           11   \n",
       "376   category_2   1006090   w2             NaN            9   \n",
       "\n",
       "                     final  \n",
       "0      category_1_43738_w4  \n",
       "1    category_2_1006090_w1  \n",
       "2    category_2_1076929_w4  \n",
       "3    category_1_1081321_w3  \n",
       "4     category_2_216151_w4  \n",
       "..                     ...  \n",
       "372  category_2_1101571_w1  \n",
       "373  category_2_1090258_w4  \n",
       "374   category_2_906595_w1  \n",
       "375    category_2_32245_w1  \n",
       "376  category_2_1006090_w2  \n",
       "\n",
       "[377 rows x 6 columns]"
      ]
     },
     "execution_count": 23,
     "metadata": {},
     "output_type": "execute_result"
    }
   ],
   "source": [
    "convert_to_weeks(val_df, predictions)\n",
    "val_df['final'] = val_df.apply(lambda row: row['CategoryCode'] + '_' + str(row['ItemCode']) + '_' + row['Week'], axis = 1)\n",
    "val_df\n"
   ]
  },
  {
   "cell_type": "code",
   "execution_count": 24,
   "id": "0f3240b5",
   "metadata": {
    "execution": {
     "iopub.execute_input": "2022-03-27T04:45:26.257767Z",
     "iopub.status.busy": "2022-03-27T04:45:26.256781Z",
     "iopub.status.idle": "2022-03-27T04:45:26.265958Z",
     "shell.execute_reply": "2022-03-27T04:45:26.266503Z",
     "shell.execute_reply.started": "2022-03-26T19:53:58.268236Z"
    },
    "papermill": {
     "duration": 0.062731,
     "end_time": "2022-03-27T04:45:26.266681",
     "exception": false,
     "start_time": "2022-03-27T04:45:26.203950",
     "status": "completed"
    },
    "tags": []
   },
   "outputs": [],
   "source": [
    "submission_df = pd.DataFrame({'ID': val_df['final'], 'WeeklySales': val_df['WeeklySales']})\n",
    "submission_df.to_csv('submission.csv', index=False)"
   ]
  },
  {
   "cell_type": "code",
   "execution_count": null,
   "id": "f94e42eb",
   "metadata": {
    "papermill": {
     "duration": 0.049898,
     "end_time": "2022-03-27T04:45:26.367390",
     "exception": false,
     "start_time": "2022-03-27T04:45:26.317492",
     "status": "completed"
    },
    "tags": []
   },
   "outputs": [],
   "source": []
  }
 ],
 "metadata": {
  "kernelspec": {
   "display_name": "Python 3",
   "language": "python",
   "name": "python3"
  },
  "language_info": {
   "codemirror_mode": {
    "name": "ipython",
    "version": 3
   },
   "file_extension": ".py",
   "mimetype": "text/x-python",
   "name": "python",
   "nbconvert_exporter": "python",
   "pygments_lexer": "ipython3",
   "version": "3.7.12"
  },
  "papermill": {
   "default_parameters": {},
   "duration": 74.04128,
   "end_time": "2022-03-27T04:45:27.228757",
   "environment_variables": {},
   "exception": null,
   "input_path": "__notebook__.ipynb",
   "output_path": "__notebook__.ipynb",
   "parameters": {},
   "start_time": "2022-03-27T04:44:13.187477",
   "version": "2.3.3"
  }
 },
 "nbformat": 4,
 "nbformat_minor": 5
}
