{
 "cells": [
  {
   "cell_type": "code",
   "execution_count": 1,
   "metadata": {
    "_cell_guid": "b1076dfc-b9ad-4769-8c92-a6c4dae69d19",
    "_uuid": "8f2839f25d086af736a60e9eeb907d3b93b6e0e5",
    "execution": {
     "iopub.execute_input": "2022-03-28T20:12:14.539777Z",
     "iopub.status.busy": "2022-03-28T20:12:14.539331Z",
     "iopub.status.idle": "2022-03-28T20:12:14.562665Z",
     "shell.execute_reply": "2022-03-28T20:12:14.562168Z",
     "shell.execute_reply.started": "2022-03-28T20:12:14.539688Z"
    }
   },
   "outputs": [],
   "source": [
    "# This Python 3 environment comes with many helpful analytics libraries installed\n",
    "# It is defined by the kaggle/python Docker image: https://github.com/kaggle/docker-python\n",
    "# For example, here's several helpful packages to load\n",
    "\n",
    "import warnings\n",
    "warnings.filterwarnings('ignore')\n",
    "\n",
    "import numpy as np # linear algebra\n",
    "import pandas as pd # data processing, CSV file I/O (e.g. pd.read_csv)\n",
    "\n",
    "# Input data files are available in the read-only \"../input/\" directory\n",
    "# For example, running this (by clicking run or pressing Shift+Enter) will list all files under the input directory\n",
    "\n",
    "import os\n",
    "for dirname, _, filenames in os.walk('/kaggle/input'):\n",
    "    for filename in filenames:\n",
    "        print(os.path.join(dirname, filename))\n",
    "\n",
    "# You can write up to 20GB to the current directory (/kaggle/working/) that gets preserved as output when you create a version using \"Save & Run All\" \n",
    "# You can also write temporary files to /kaggle/temp/, but they won't be saved outside of the current session"
   ]
  },
  {
   "cell_type": "code",
   "execution_count": 2,
   "metadata": {
    "execution": {
     "iopub.execute_input": "2022-03-28T20:12:14.564093Z",
     "iopub.status.busy": "2022-03-28T20:12:14.563784Z",
     "iopub.status.idle": "2022-03-28T20:12:14.602878Z",
     "shell.execute_reply": "2022-03-28T20:12:14.602287Z",
     "shell.execute_reply.started": "2022-03-28T20:12:14.564067Z"
    }
   },
   "outputs": [],
   "source": [
    "df = pd.read_csv(\"/kaggle/input/data-storm-30/train_data.csv\")\n"
   ]
  },
  {
   "cell_type": "code",
   "execution_count": 3,
   "metadata": {
    "execution": {
     "iopub.execute_input": "2022-03-28T20:12:14.604710Z",
     "iopub.status.busy": "2022-03-28T20:12:14.604100Z",
     "iopub.status.idle": "2022-03-28T20:12:14.607972Z",
     "shell.execute_reply": "2022-03-28T20:12:14.607432Z",
     "shell.execute_reply.started": "2022-03-28T20:12:14.604680Z"
    }
   },
   "outputs": [],
   "source": [
    "pd.set_option('display.max_rows', 10)"
   ]
  },
  {
   "cell_type": "code",
   "execution_count": 4,
   "metadata": {
    "execution": {
     "iopub.execute_input": "2022-03-28T20:12:14.609457Z",
     "iopub.status.busy": "2022-03-28T20:12:14.608802Z",
     "iopub.status.idle": "2022-03-28T20:12:14.621536Z",
     "shell.execute_reply": "2022-03-28T20:12:14.620863Z",
     "shell.execute_reply.started": "2022-03-28T20:12:14.609427Z"
    }
   },
   "outputs": [],
   "source": [
    "training_range = pd.date_range('2021-10-01', '2022-02-13')\n",
    "testing_range = pd.date_range('2022-02-20', '2022-03-13', freq='W-SUN')"
   ]
  },
  {
   "cell_type": "code",
   "execution_count": 5,
   "metadata": {
    "execution": {
     "iopub.execute_input": "2022-03-28T20:12:14.623479Z",
     "iopub.status.busy": "2022-03-28T20:12:14.623135Z",
     "iopub.status.idle": "2022-03-28T20:12:14.631734Z",
     "shell.execute_reply": "2022-03-28T20:12:14.631157Z",
     "shell.execute_reply.started": "2022-03-28T20:12:14.623453Z"
    }
   },
   "outputs": [],
   "source": [
    "def data_for_item(item_code):\n",
    "    filtered_df = df.loc[df['ItemCode'] == item_code]\n",
    "    filtered_df[\"DateID\"] = pd.to_datetime(filtered_df[\"DateID\"], format = \"%m/%d/%Y\")\n",
    "        \n",
    "    filtered_df.set_index(filtered_df.DateID, inplace=True)\n",
    "    filtered_df.drop('DateID', axis=1, inplace=True)\n",
    "    filtered_df.drop('ItemCode', axis = 1, inplace = True)\n",
    "    filtered_df.drop('CategoryCode', axis = 1, inplace = True)\n",
    "    \n",
    "    for date in training_range:\n",
    "        if date not in filtered_df.index:\n",
    "            filtered_df.loc[date] = [0]\n",
    "    \n",
    "    filtered_df = filtered_df.sort_index()\n",
    "        \n",
    "    weekly_sales = filtered_df.groupby(pd.Grouper(freq='W')).sum()\n",
    "    weekly_sales.rename(columns = {'DailySales': 'WeeklySales'}, inplace = True)\n",
    "    weekly_sales = create_lag(weekly_sales)\n",
    "    weekly_sales['month'] = weekly_sales.index.month\n",
    "    weekly_sales['week'] = weekly_sales.index.weekofyear\n",
    "    train_x = weekly_sales.loc[:, weekly_sales.columns != 'WeeklySales']\n",
    "    train_y = weekly_sales['WeeklySales']\n",
    "    return weekly_sales, train_x, train_y\n",
    "    "
   ]
  },
  {
   "cell_type": "code",
   "execution_count": 6,
   "metadata": {
    "execution": {
     "iopub.execute_input": "2022-03-28T20:12:14.632931Z",
     "iopub.status.busy": "2022-03-28T20:12:14.632615Z",
     "iopub.status.idle": "2022-03-28T20:12:14.645027Z",
     "shell.execute_reply": "2022-03-28T20:12:14.644145Z",
     "shell.execute_reply.started": "2022-03-28T20:12:14.632907Z"
    }
   },
   "outputs": [],
   "source": [
    "def create_lag(df3):\n",
    "    dataframe = pd.DataFrame()\n",
    "    for i in range(2, 0, -1):\n",
    "        dataframe['t-' + str(i)] = df3.WeeklySales.shift(i)\n",
    "    df4 = pd.concat([df3, dataframe], axis=1)\n",
    "    df4.dropna(inplace=True)\n",
    "    return df4"
   ]
  },
  {
   "cell_type": "code",
   "execution_count": 7,
   "metadata": {
    "execution": {
     "iopub.execute_input": "2022-03-28T20:12:14.646238Z",
     "iopub.status.busy": "2022-03-28T20:12:14.646027Z",
     "iopub.status.idle": "2022-03-28T20:12:15.795506Z",
     "shell.execute_reply": "2022-03-28T20:12:15.794574Z",
     "shell.execute_reply.started": "2022-03-28T20:12:14.646211Z"
    }
   },
   "outputs": [],
   "source": [
    "from sklearn.feature_selection import RFE\n",
    "from sklearn.ensemble import RandomForestRegressor\n",
    "from xgboost import XGBRegressor"
   ]
  },
  {
   "cell_type": "code",
   "execution_count": 8,
   "metadata": {
    "execution": {
     "iopub.execute_input": "2022-03-28T20:12:15.796820Z",
     "iopub.status.busy": "2022-03-28T20:12:15.796596Z",
     "iopub.status.idle": "2022-03-28T20:12:15.804489Z",
     "shell.execute_reply": "2022-03-28T20:12:15.803671Z",
     "shell.execute_reply.started": "2022-03-28T20:12:15.796795Z"
    }
   },
   "outputs": [],
   "source": [
    "def train_predict(weekly_sales, train_x, train_y):\n",
    "    model = RandomForestRegressor(n_estimators=100, max_depth=20, random_state = 1)\n",
    "\n",
    "    fit = model.fit(train_x, train_y)\n",
    "    results = []\n",
    "    \n",
    "    for date in testing_range:\n",
    "        prev_row = weekly_sales.iloc[-1]\n",
    "        test_x = pd.DataFrame({'month': [date.month], \n",
    "                               'week': [date.weekofyear], \n",
    "                               't-1':[prev_row['WeeklySales']], \n",
    "                               't-2': [prev_row['t-1']]})\n",
    "        \n",
    "        prediction = round(fit.predict(test_x)[0])\n",
    "        test_x['WeeklySales'] = [prediction]\n",
    "        test_x.index = [date]\n",
    "        #print(test_x)\n",
    "        weekly_sales = weekly_sales.append(test_x)\n",
    "        results.append(prediction)\n",
    "    \n",
    "    #print(weekly_sales)\n",
    "    return results\n",
    "        "
   ]
  },
  {
   "cell_type": "code",
   "execution_count": 9,
   "metadata": {
    "execution": {
     "iopub.execute_input": "2022-03-28T20:12:15.806359Z",
     "iopub.status.busy": "2022-03-28T20:12:15.805765Z",
     "iopub.status.idle": "2022-03-28T20:12:15.816969Z",
     "shell.execute_reply": "2022-03-28T20:12:15.816479Z",
     "shell.execute_reply.started": "2022-03-28T20:12:15.806323Z"
    }
   },
   "outputs": [],
   "source": [
    "def predict_for_one_item(item_code):\n",
    "    weekly_sales, train_x, train_y = data_for_item(item_code)\n",
    "    result = train_predict(weekly_sales, train_x, train_y)\n",
    "    return result"
   ]
  },
  {
   "cell_type": "code",
   "execution_count": 10,
   "metadata": {
    "execution": {
     "iopub.execute_input": "2022-03-28T20:12:15.818940Z",
     "iopub.status.busy": "2022-03-28T20:12:15.818730Z",
     "iopub.status.idle": "2022-03-28T20:12:15.826782Z",
     "shell.execute_reply": "2022-03-28T20:12:15.826097Z",
     "shell.execute_reply.started": "2022-03-28T20:12:15.818915Z"
    }
   },
   "outputs": [],
   "source": [
    "def accuracy(actual, pred):\n",
    "    diff = np.sum(np.abs(actual - pred))\n",
    "    return diff / np.sum(actual)"
   ]
  },
  {
   "cell_type": "code",
   "execution_count": 11,
   "metadata": {
    "execution": {
     "iopub.execute_input": "2022-03-28T20:12:15.827812Z",
     "iopub.status.busy": "2022-03-28T20:12:15.827621Z",
     "iopub.status.idle": "2022-03-28T20:12:15.837796Z",
     "shell.execute_reply": "2022-03-28T20:12:15.837095Z",
     "shell.execute_reply.started": "2022-03-28T20:12:15.827789Z"
    }
   },
   "outputs": [],
   "source": [
    "def predict_for_test(path):\n",
    "    val_df = pd.read_csv(path)\n",
    "    results = {}\n",
    "    for item_code in val_df.ItemCode.unique():\n",
    "        print(item_code)\n",
    "        sales = predict_for_one_item(item_code)\n",
    "        weeks = {}\n",
    "        for i in range(4):\n",
    "            weeks['w'+str(i+1)] = sales[i]\n",
    "        results[item_code] = weeks\n",
    "    val_df['Predictions'] = val_df.apply(lambda row: results[row.ItemCode][row.Week], axis = 1)\n",
    "    val_df['ID'] = val_df.apply(lambda row: row.CategoryCode + '_' + str(row.ItemCode) + '_' + row.Week, axis = 1)\n",
    "    \n",
    "    if 'WeeklySales' in val_df:\n",
    "        print(\"Accuracy:\", accuracy(val_df.WeeklySales.values, val_df.Predictions.values))\n",
    "    return val_df\n",
    "    "
   ]
  },
  {
   "cell_type": "code",
   "execution_count": 12,
   "metadata": {
    "execution": {
     "iopub.execute_input": "2022-03-28T20:12:15.838997Z",
     "iopub.status.busy": "2022-03-28T20:12:15.838790Z",
     "iopub.status.idle": "2022-03-28T20:12:40.158723Z",
     "shell.execute_reply": "2022-03-28T20:12:40.157910Z",
     "shell.execute_reply.started": "2022-03-28T20:12:15.838974Z"
    }
   },
   "outputs": [],
   "source": [
    "val_df = predict_for_test('/kaggle/input/data-storm-30/validation_data.csv')"
   ]
  },
  {
   "cell_type": "code",
   "execution_count": 13,
   "metadata": {
    "execution": {
     "iopub.execute_input": "2022-03-28T20:12:40.159920Z",
     "iopub.status.busy": "2022-03-28T20:12:40.159713Z",
     "iopub.status.idle": "2022-03-28T20:13:05.490045Z",
     "shell.execute_reply": "2022-03-28T20:13:05.489278Z",
     "shell.execute_reply.started": "2022-03-28T20:12:40.159897Z"
    }
   },
   "outputs": [],
   "source": [
    "test_df = predict_for_test('/kaggle/input/data-storm-30/test_data.csv')"
   ]
  },
  {
   "cell_type": "code",
   "execution_count": 14,
   "metadata": {
    "execution": {
     "iopub.execute_input": "2022-03-28T20:13:05.491752Z",
     "iopub.status.busy": "2022-03-28T20:13:05.491340Z",
     "iopub.status.idle": "2022-03-28T20:13:05.514813Z",
     "shell.execute_reply": "2022-03-28T20:13:05.514153Z",
     "shell.execute_reply.started": "2022-03-28T20:13:05.491709Z"
    }
   },
   "outputs": [],
   "source": [
    "test_df"
   ]
  },
  {
   "cell_type": "code",
   "execution_count": 15,
   "metadata": {
    "execution": {
     "iopub.execute_input": "2022-03-28T20:13:05.516199Z",
     "iopub.status.busy": "2022-03-28T20:13:05.515986Z",
     "iopub.status.idle": "2022-03-28T20:13:05.523458Z",
     "shell.execute_reply": "2022-03-28T20:13:05.522748Z",
     "shell.execute_reply.started": "2022-03-28T20:13:05.516159Z"
    }
   },
   "outputs": [],
   "source": [
    "submission_df = pd.DataFrame({'ID': test_df['ID'], 'WeeklySales': test_df['Predictions']})\n",
    "submission_df.to_csv('submission.csv', index=False)"
   ]
  },
  {
   "cell_type": "code",
   "execution_count": 16,
   "metadata": {
    "execution": {
     "iopub.execute_input": "2022-03-28T20:13:05.525229Z",
     "iopub.status.busy": "2022-03-28T20:13:05.524739Z",
     "iopub.status.idle": "2022-03-28T20:13:05.540763Z",
     "shell.execute_reply": "2022-03-28T20:13:05.540237Z",
     "shell.execute_reply.started": "2022-03-28T20:13:05.525175Z"
    }
   },
   "outputs": [],
   "source": [
    "submission_df"
   ]
  },
  {
   "cell_type": "code",
   "execution_count": null,
   "metadata": {},
   "outputs": [],
   "source": []
  }
 ],
 "metadata": {
  "kernelspec": {
   "display_name": "Python 3",
   "language": "python",
   "name": "python3"
  },
  "language_info": {
   "codemirror_mode": {
    "name": "ipython",
    "version": 3
   },
   "file_extension": ".py",
   "mimetype": "text/x-python",
   "name": "python",
   "nbconvert_exporter": "python",
   "pygments_lexer": "ipython3",
   "version": "3.7.3"
  }
 },
 "nbformat": 4,
 "nbformat_minor": 4
}
